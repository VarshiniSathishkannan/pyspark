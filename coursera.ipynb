{
 "cells": [
  {
   "cell_type": "code",
   "execution_count": 1,
   "metadata": {},
   "outputs": [],
   "source": [
    "import findspark\n",
    "findspark.init()"
   ]
  },
  {
   "cell_type": "code",
   "execution_count": 2,
   "metadata": {},
   "outputs": [],
   "source": [
    "from pyspark import SparkContext\n",
    "from pyspark import SparkConf\n",
    "from pyspark.sql import SparkSession"
   ]
  },
  {
   "cell_type": "code",
   "execution_count": 3,
   "metadata": {},
   "outputs": [],
   "source": [
    "# Creating a spark context class\n",
    "sc = SparkContext()\n",
    "\n",
    "conf = SparkConf().set(\"spark.driver.extraJavaOptions\", \"-Dlog4j.configuration=log4j.properties\")\n",
    "\n",
    "# Creating a spark session\n",
    "spark = SparkSession \\\n",
    "    .builder \\\n",
    "    .appName(\"Python Spark DataFrames basic example\") \\\n",
    "    .config(conf=conf) \\\n",
    "    .getOrCreate()\n",
    "    # .config('spark.driver.extraClassPath',\"C:\\Users\\varsh\\spark\\spark-3.3.1-bin-hadoop3\\jars\\mysql-connector-java-8.0.13.jar\") \\\n",
    "    # .getOrCreate()"
   ]
  },
  {
   "cell_type": "code",
   "execution_count": 4,
   "metadata": {},
   "outputs": [
    {
     "data": {
      "text/html": [
       "\n",
       "            <div>\n",
       "                <p><b>SparkSession - in-memory</b></p>\n",
       "                \n",
       "        <div>\n",
       "            <p><b>SparkContext</b></p>\n",
       "\n",
       "            <p><a href=\"http://localhost:4040\">Spark UI</a></p>\n",
       "\n",
       "            <dl>\n",
       "              <dt>Version</dt>\n",
       "                <dd><code>v3.3.1</code></dd>\n",
       "              <dt>Master</dt>\n",
       "                <dd><code>local[*]</code></dd>\n",
       "              <dt>AppName</dt>\n",
       "                <dd><code>pyspark-shell</code></dd>\n",
       "            </dl>\n",
       "        </div>\n",
       "        \n",
       "            </div>\n",
       "        "
      ],
      "text/plain": [
       "<pyspark.sql.session.SparkSession at 0x288c5a4ab60>"
      ]
     },
     "execution_count": 4,
     "metadata": {},
     "output_type": "execute_result"
    }
   ],
   "source": [
    "spark"
   ]
  },
  {
   "cell_type": "code",
   "execution_count": 5,
   "metadata": {},
   "outputs": [
    {
     "data": {
      "text/html": [
       "\n",
       "        <div>\n",
       "            <p><b>SparkContext</b></p>\n",
       "\n",
       "            <p><a href=\"http://localhost:4040\">Spark UI</a></p>\n",
       "\n",
       "            <dl>\n",
       "              <dt>Version</dt>\n",
       "                <dd><code>v3.3.1</code></dd>\n",
       "              <dt>Master</dt>\n",
       "                <dd><code>local[*]</code></dd>\n",
       "              <dt>AppName</dt>\n",
       "                <dd><code>pyspark-shell</code></dd>\n",
       "            </dl>\n",
       "        </div>\n",
       "        "
      ],
      "text/plain": [
       "<SparkContext master=local[*] appName=pyspark-shell>"
      ]
     },
     "execution_count": 5,
     "metadata": {},
     "output_type": "execute_result"
    }
   ],
   "source": [
    "sc"
   ]
  },
  {
   "cell_type": "code",
   "execution_count": 6,
   "metadata": {},
   "outputs": [
    {
     "name": "stdout",
     "output_type": "stream",
     "text": [
      "<class 'pyspark.context.SparkContext'>\n"
     ]
    }
   ],
   "source": [
    "print(type(sc))"
   ]
  },
  {
   "cell_type": "code",
   "execution_count": 7,
   "metadata": {},
   "outputs": [
    {
     "data": {
      "text/plain": [
       "388"
      ]
     },
     "execution_count": 7,
     "metadata": {},
     "output_type": "execute_result"
    }
   ],
   "source": [
    "from pyspark.sql.functions import *\n",
    "f = spark.sql('show functions')\n",
    "f.count()"
   ]
  },
  {
   "cell_type": "code",
   "execution_count": 8,
   "metadata": {},
   "outputs": [
    {
     "name": "stdout",
     "output_type": "stream",
     "text": [
      "+--------------------+\n",
      "|            function|\n",
      "+--------------------+\n",
      "|                   !|\n",
      "|                  !=|\n",
      "|                   %|\n",
      "|                   &|\n",
      "|                   *|\n",
      "|                   +|\n",
      "|                   -|\n",
      "|                   /|\n",
      "|                   <|\n",
      "|                  <=|\n",
      "|                 <=>|\n",
      "|                  <>|\n",
      "|                   =|\n",
      "|                  ==|\n",
      "|                   >|\n",
      "|                  >=|\n",
      "|                   ^|\n",
      "|                 abs|\n",
      "|                acos|\n",
      "|               acosh|\n",
      "|          add_months|\n",
      "|         aes_decrypt|\n",
      "|         aes_encrypt|\n",
      "|           aggregate|\n",
      "|                 and|\n",
      "|                 any|\n",
      "|approx_count_dist...|\n",
      "|   approx_percentile|\n",
      "|               array|\n",
      "|           array_agg|\n",
      "|      array_contains|\n",
      "|      array_distinct|\n",
      "|        array_except|\n",
      "|     array_intersect|\n",
      "|          array_join|\n",
      "|           array_max|\n",
      "|           array_min|\n",
      "|      array_position|\n",
      "|        array_remove|\n",
      "|        array_repeat|\n",
      "|          array_size|\n",
      "|          array_sort|\n",
      "|         array_union|\n",
      "|      arrays_overlap|\n",
      "|          arrays_zip|\n",
      "|               ascii|\n",
      "|                asin|\n",
      "|               asinh|\n",
      "|         assert_true|\n",
      "|                atan|\n",
      "|               atan2|\n",
      "|               atanh|\n",
      "|                 avg|\n",
      "|              base64|\n",
      "|             between|\n",
      "|              bigint|\n",
      "|                 bin|\n",
      "|              binary|\n",
      "|             bit_and|\n",
      "|           bit_count|\n",
      "|             bit_get|\n",
      "|          bit_length|\n",
      "|              bit_or|\n",
      "|             bit_xor|\n",
      "|            bool_and|\n",
      "|             bool_or|\n",
      "|             boolean|\n",
      "|              bround|\n",
      "|               btrim|\n",
      "|         cardinality|\n",
      "|                case|\n",
      "|                cast|\n",
      "|                cbrt|\n",
      "|                ceil|\n",
      "|             ceiling|\n",
      "|                char|\n",
      "|         char_length|\n",
      "|    character_length|\n",
      "|                 chr|\n",
      "|            coalesce|\n",
      "|        collect_list|\n",
      "|         collect_set|\n",
      "|              concat|\n",
      "|           concat_ws|\n",
      "|            contains|\n",
      "|                conv|\n",
      "|                corr|\n",
      "|                 cos|\n",
      "|                cosh|\n",
      "|                 cot|\n",
      "|               count|\n",
      "|            count_if|\n",
      "|    count_min_sketch|\n",
      "|           covar_pop|\n",
      "|          covar_samp|\n",
      "|               crc32|\n",
      "|                 csc|\n",
      "|           cume_dist|\n",
      "|     current_catalog|\n",
      "|    current_database|\n",
      "|        current_date|\n",
      "|   current_timestamp|\n",
      "|    current_timezone|\n",
      "|        current_user|\n",
      "|                date|\n",
      "|            date_add|\n",
      "|         date_format|\n",
      "| date_from_unix_date|\n",
      "|           date_part|\n",
      "|            date_sub|\n",
      "|          date_trunc|\n",
      "|            datediff|\n",
      "|                 day|\n",
      "|          dayofmonth|\n",
      "|           dayofweek|\n",
      "|           dayofyear|\n",
      "|             decimal|\n",
      "|              decode|\n",
      "|             degrees|\n",
      "|          dense_rank|\n",
      "|                 div|\n",
      "|              double|\n",
      "|                   e|\n",
      "|          element_at|\n",
      "|                 elt|\n",
      "|              encode|\n",
      "|            endswith|\n",
      "|               every|\n",
      "|              exists|\n",
      "|                 exp|\n",
      "|             explode|\n",
      "|       explode_outer|\n",
      "|               expm1|\n",
      "|             extract|\n",
      "|           factorial|\n",
      "|              filter|\n",
      "|         find_in_set|\n",
      "|               first|\n",
      "|         first_value|\n",
      "|             flatten|\n",
      "|               float|\n",
      "|               floor|\n",
      "|              forall|\n",
      "|       format_number|\n",
      "|       format_string|\n",
      "|            from_csv|\n",
      "|           from_json|\n",
      "|       from_unixtime|\n",
      "|  from_utc_timestamp|\n",
      "|     get_json_object|\n",
      "|              getbit|\n",
      "|            greatest|\n",
      "|            grouping|\n",
      "|         grouping_id|\n",
      "|                hash|\n",
      "|                 hex|\n",
      "|   histogram_numeric|\n",
      "|                hour|\n",
      "|               hypot|\n",
      "|                  if|\n",
      "|              ifnull|\n",
      "|               ilike|\n",
      "|                  in|\n",
      "|             initcap|\n",
      "|              inline|\n",
      "|        inline_outer|\n",
      "|input_file_block_...|\n",
      "|input_file_block_...|\n",
      "|     input_file_name|\n",
      "|               instr|\n",
      "|                 int|\n",
      "|               isnan|\n",
      "|           isnotnull|\n",
      "|              isnull|\n",
      "|         java_method|\n",
      "|   json_array_length|\n",
      "|    json_object_keys|\n",
      "|          json_tuple|\n",
      "|            kurtosis|\n",
      "|                 lag|\n",
      "|                last|\n",
      "|            last_day|\n",
      "|          last_value|\n",
      "|               lcase|\n",
      "|                lead|\n",
      "|               least|\n",
      "|                left|\n",
      "|              length|\n",
      "|         levenshtein|\n",
      "|                like|\n",
      "|                  ln|\n",
      "|              locate|\n",
      "|                 log|\n",
      "|               log10|\n",
      "|               log1p|\n",
      "|                log2|\n",
      "|               lower|\n",
      "|                lpad|\n",
      "|               ltrim|\n",
      "|           make_date|\n",
      "|    make_dt_interval|\n",
      "|       make_interval|\n",
      "|      make_timestamp|\n",
      "|    make_ym_interval|\n",
      "|                 map|\n",
      "|          map_concat|\n",
      "|    map_contains_key|\n",
      "|         map_entries|\n",
      "|          map_filter|\n",
      "|     map_from_arrays|\n",
      "|    map_from_entries|\n",
      "|            map_keys|\n",
      "|          map_values|\n",
      "|        map_zip_with|\n",
      "|                 max|\n",
      "|              max_by|\n",
      "|                 md5|\n",
      "|                mean|\n",
      "|                 min|\n",
      "|              min_by|\n",
      "|              minute|\n",
      "|                 mod|\n",
      "|monotonically_inc...|\n",
      "|               month|\n",
      "|      months_between|\n",
      "|        named_struct|\n",
      "|               nanvl|\n",
      "|            negative|\n",
      "|            next_day|\n",
      "|                 not|\n",
      "|                 now|\n",
      "|           nth_value|\n",
      "|               ntile|\n",
      "|              nullif|\n",
      "|                 nvl|\n",
      "|                nvl2|\n",
      "|        octet_length|\n",
      "|                  or|\n",
      "|             overlay|\n",
      "|           parse_url|\n",
      "|        percent_rank|\n",
      "|          percentile|\n",
      "|   percentile_approx|\n",
      "|                  pi|\n",
      "|                pmod|\n",
      "|          posexplode|\n",
      "|    posexplode_outer|\n",
      "|            position|\n",
      "|            positive|\n",
      "|                 pow|\n",
      "|               power|\n",
      "|              printf|\n",
      "|             quarter|\n",
      "|             radians|\n",
      "|         raise_error|\n",
      "|                rand|\n",
      "|               randn|\n",
      "|              random|\n",
      "|               range|\n",
      "|                rank|\n",
      "|             reflect|\n",
      "|              regexp|\n",
      "|      regexp_extract|\n",
      "|  regexp_extract_all|\n",
      "|         regexp_like|\n",
      "|      regexp_replace|\n",
      "|           regr_avgx|\n",
      "|           regr_avgy|\n",
      "|          regr_count|\n",
      "|             regr_r2|\n",
      "|              repeat|\n",
      "|             replace|\n",
      "|             reverse|\n",
      "|               right|\n",
      "|                rint|\n",
      "|               rlike|\n",
      "|               round|\n",
      "|          row_number|\n",
      "|                rpad|\n",
      "|               rtrim|\n",
      "|       schema_of_csv|\n",
      "|      schema_of_json|\n",
      "|                 sec|\n",
      "|              second|\n",
      "|           sentences|\n",
      "|            sequence|\n",
      "|      session_window|\n",
      "|                 sha|\n",
      "|                sha1|\n",
      "|                sha2|\n",
      "|           shiftleft|\n",
      "|          shiftright|\n",
      "|  shiftrightunsigned|\n",
      "|             shuffle|\n",
      "|                sign|\n",
      "|              signum|\n",
      "|                 sin|\n",
      "|                sinh|\n",
      "|                size|\n",
      "|            skewness|\n",
      "|               slice|\n",
      "|            smallint|\n",
      "|                some|\n",
      "|          sort_array|\n",
      "|             soundex|\n",
      "|               space|\n",
      "|  spark_partition_id|\n",
      "|               split|\n",
      "|          split_part|\n",
      "|                sqrt|\n",
      "|               stack|\n",
      "|          startswith|\n",
      "|                 std|\n",
      "|              stddev|\n",
      "|          stddev_pop|\n",
      "|         stddev_samp|\n",
      "|          str_to_map|\n",
      "|              string|\n",
      "|              struct|\n",
      "|              substr|\n",
      "|           substring|\n",
      "|     substring_index|\n",
      "|                 sum|\n",
      "|                 tan|\n",
      "|                tanh|\n",
      "|           timestamp|\n",
      "|    timestamp_micros|\n",
      "|    timestamp_millis|\n",
      "|   timestamp_seconds|\n",
      "|             tinyint|\n",
      "|           to_binary|\n",
      "|              to_csv|\n",
      "|             to_date|\n",
      "|             to_json|\n",
      "|           to_number|\n",
      "|        to_timestamp|\n",
      "|   to_unix_timestamp|\n",
      "|    to_utc_timestamp|\n",
      "|           transform|\n",
      "|      transform_keys|\n",
      "|    transform_values|\n",
      "|           translate|\n",
      "|                trim|\n",
      "|               trunc|\n",
      "|             try_add|\n",
      "|             try_avg|\n",
      "|          try_divide|\n",
      "|      try_element_at|\n",
      "|        try_multiply|\n",
      "|        try_subtract|\n",
      "|             try_sum|\n",
      "|       try_to_binary|\n",
      "|       try_to_number|\n",
      "|              typeof|\n",
      "|               ucase|\n",
      "|            unbase64|\n",
      "|               unhex|\n",
      "|           unix_date|\n",
      "|         unix_micros|\n",
      "|         unix_millis|\n",
      "|        unix_seconds|\n",
      "|      unix_timestamp|\n",
      "|               upper|\n",
      "|                uuid|\n",
      "|             var_pop|\n",
      "|            var_samp|\n",
      "|            variance|\n",
      "|             version|\n",
      "|             weekday|\n",
      "|          weekofyear|\n",
      "|                when|\n",
      "|        width_bucket|\n",
      "|              window|\n",
      "|               xpath|\n",
      "|       xpath_boolean|\n",
      "|        xpath_double|\n",
      "|         xpath_float|\n",
      "|           xpath_int|\n",
      "|          xpath_long|\n",
      "|        xpath_number|\n",
      "|         xpath_short|\n",
      "|        xpath_string|\n",
      "|            xxhash64|\n",
      "|                year|\n",
      "|            zip_with|\n",
      "|                   ||\n",
      "|                  |||\n",
      "|                   ~|\n",
      "+--------------------+\n",
      "\n"
     ]
    }
   ],
   "source": [
    "f.show(388)"
   ]
  },
  {
   "cell_type": "code",
   "execution_count": 9,
   "metadata": {},
   "outputs": [
    {
     "data": {
      "text/plain": [
       "'http://localhost:4040'"
      ]
     },
     "execution_count": 9,
     "metadata": {},
     "output_type": "execute_result"
    }
   ],
   "source": [
    "\n",
    "sc.uiWebUrl"
   ]
  },
  {
   "cell_type": "code",
   "execution_count": 10,
   "metadata": {},
   "outputs": [
    {
     "name": "stdout",
     "output_type": "stream",
     "text": [
      "+-------------------+-----------+-----------+-----------+-----------+-----------+-------+\n",
      "|Date               |Open       |High       |Low        |Close      |AdjClose   |Volume |\n",
      "+-------------------+-----------+-----------+-----------+-----------+-----------+-------+\n",
      "|2019-07-15 00:00:00|2021.400024|2022.900024|2001.550049|2020.98999 |2020.98999 |2981300|\n",
      "|2019-07-16 00:00:00|2010.579956|2026.319946|2001.219971|2009.900024|2009.900024|2618200|\n",
      "|2019-07-17 00:00:00|2007.050049|2012.0     |1992.030029|1992.030029|1992.030029|2558800|\n",
      "|2019-07-18 00:00:00|1980.01001 |1987.5     |1951.550049|1977.900024|1977.900024|3504300|\n",
      "|2019-07-19 00:00:00|1991.209961|1996.0     |1962.22998 |1964.52002 |1964.52002 |3185600|\n",
      "|2019-07-22 00:00:00|1971.140015|1989.0     |1958.26001 |1985.630005|1985.630005|2900000|\n",
      "|2019-07-23 00:00:00|1995.98999 |1997.790039|1973.130005|1994.48999 |1994.48999 |2703500|\n",
      "|2019-07-24 00:00:00|1969.300049|2001.300049|1965.869995|2000.810059|2000.810059|2631300|\n",
      "|2019-07-25 00:00:00|2001.0     |2001.199951|1972.719971|1973.819946|1973.819946|4136500|\n",
      "|2019-07-26 00:00:00|1942.0     |1950.900024|1924.51001 |1943.050049|1943.050049|4927100|\n",
      "|2019-07-29 00:00:00|1930.0     |1932.22998 |1890.540039|1912.449951|1912.449951|4493200|\n",
      "|2019-07-30 00:00:00|1891.119995|1909.890015|1883.47998 |1898.530029|1898.530029|2910900|\n",
      "|2019-07-31 00:00:00|1898.109985|1899.550049|1849.439941|1866.780029|1866.780029|4470700|\n",
      "|2019-08-01 00:00:00|1871.719971|1897.920044|1844.01001 |1855.319946|1855.319946|4713300|\n",
      "|2019-08-02 00:00:00|1845.069946|1846.359985|1808.02002 |1823.23999 |1823.23999 |4956200|\n",
      "|2019-08-05 00:00:00|1770.219971|1788.670044|1748.780029|1765.130005|1765.130005|6058200|\n",
      "|2019-08-06 00:00:00|1792.22998 |1793.77002 |1753.400024|1787.829956|1787.829956|5070300|\n",
      "|2019-08-07 00:00:00|1773.98999 |1798.930054|1757.0     |1793.400024|1793.400024|4526900|\n",
      "|2019-08-08 00:00:00|1806.0     |1834.26001 |1798.109985|1832.890015|1832.890015|3701200|\n",
      "|2019-08-09 00:00:00|1828.949951|1831.089966|1802.219971|1807.579956|1807.579956|2879800|\n",
      "+-------------------+-----------+-----------+-----------+-----------+-----------+-------+\n",
      "only showing top 20 rows\n",
      "\n"
     ]
    }
   ],
   "source": [
    "amazon = spark.read.csv('C:/Users/varsh/Sample_Data/AMZN.csv',header=True,inferSchema=True)\n",
    "amazon.show(truncate=False)"
   ]
  },
  {
   "cell_type": "code",
   "execution_count": 11,
   "metadata": {},
   "outputs": [
    {
     "name": "stdout",
     "output_type": "stream",
     "text": [
      "+-------------------+-----------+-----------+-----------+-----------+-----------+-------+\n",
      "|Date               |Open       |High       |Low        |Close      |AdjClose   |Volume |\n",
      "+-------------------+-----------+-----------+-----------+-----------+-----------+-------+\n",
      "|2019-07-15 00:00:00|1146.859985|1150.819946|1139.400024|1150.339966|1150.339966|903800 |\n",
      "|2019-07-16 00:00:00|1146.0     |1158.579956|1145.0     |1153.579956|1153.579956|1238800|\n",
      "|2019-07-17 00:00:00|1150.969971|1158.359985|1145.77002 |1146.349976|1146.349976|1170000|\n",
      "|2019-07-18 00:00:00|1141.73999 |1147.60498 |1132.72998 |1146.329956|1146.329956|1291300|\n",
      "|2019-07-19 00:00:00|1148.189941|1151.140015|1129.619995|1130.099976|1130.099976|1647200|\n",
      "|2019-07-22 00:00:00|1133.449951|1139.25    |1124.23999 |1138.069946|1138.069946|1301500|\n",
      "|2019-07-23 00:00:00|1144.0     |1146.900024|1131.800049|1146.209961|1146.209961|1093700|\n",
      "|2019-07-24 00:00:00|1131.900024|1144.0     |1126.98999 |1137.810059|1137.810059|1589800|\n",
      "|2019-07-25 00:00:00|1137.819946|1141.699951|1120.920044|1132.119995|1132.119995|2209800|\n",
      "|2019-07-26 00:00:00|1224.040039|1265.550049|1224.0     |1250.410034|1250.410034|4805800|\n",
      "|2019-07-29 00:00:00|1241.050049|1247.369995|1228.22998 |1239.410034|1239.410034|2223700|\n",
      "|2019-07-30 00:00:00|1225.410034|1234.869995|1223.300049|1225.140015|1225.140015|1453300|\n",
      "|2019-07-31 00:00:00|1223.0     |1234.0     |1207.764038|1216.680054|1216.680054|1725500|\n",
      "|2019-08-01 00:00:00|1214.030029|1234.109985|1205.719971|1209.01001 |1209.01001 |1698500|\n",
      "|2019-08-02 00:00:00|1200.73999 |1206.900024|1188.939941|1193.98999 |1193.98999 |1645100|\n",
      "|2019-08-05 00:00:00|1170.040039|1175.23999 |1140.140015|1152.319946|1152.319946|2597500|\n",
      "|2019-08-06 00:00:00|1163.310059|1179.959961|1160.0     |1169.949951|1169.949951|1709400|\n",
      "|2019-08-07 00:00:00|1156.0     |1178.444946|1149.624023|1173.98999 |1173.98999 |1444300|\n",
      "|2019-08-08 00:00:00|1182.829956|1205.01001 |1173.02002 |1204.800049|1204.800049|1468000|\n",
      "|2019-08-09 00:00:00|1197.98999 |1203.880005|1183.603027|1188.01001 |1188.01001 |1065700|\n",
      "+-------------------+-----------+-----------+-----------+-----------+-----------+-------+\n",
      "only showing top 20 rows\n",
      "\n"
     ]
    }
   ],
   "source": [
    "google = spark.read.csv('C:/Users/varsh/Sample_Data/GOOG.csv',header=True,inferSchema=True)\n",
    "google.show(truncate=False)"
   ]
  },
  {
   "cell_type": "code",
   "execution_count": 12,
   "metadata": {},
   "outputs": [
    {
     "name": "stdout",
     "output_type": "stream",
     "text": [
      "+-------------------+----------+----------+----------+----------+----------+--------+\n",
      "|Date               |Open      |High      |Low       |Close     |AdjClose  |Volume  |\n",
      "+-------------------+----------+----------+----------+----------+----------+--------+\n",
      "|2019-07-15 00:00:00|248.0     |254.419998|244.860001|253.5     |253.5     |11000100|\n",
      "|2019-07-16 00:00:00|249.300003|253.529999|247.929993|252.380005|252.380005|8149000 |\n",
      "|2019-07-17 00:00:00|255.669998|258.309998|253.350006|254.860001|254.860001|9764700 |\n",
      "|2019-07-18 00:00:00|255.050003|255.75    |251.889999|253.539993|253.539993|4764500 |\n",
      "|2019-07-19 00:00:00|255.690002|259.959991|254.619995|258.179993|258.179993|7048400 |\n",
      "|2019-07-22 00:00:00|258.75    |262.149994|254.190002|255.679993|255.679993|6842400 |\n",
      "|2019-07-23 00:00:00|256.709991|260.480011|254.5     |260.170013|260.170013|5023100 |\n",
      "|2019-07-24 00:00:00|259.170013|266.070007|258.160004|264.880005|264.880005|11072800|\n",
      "|2019-07-25 00:00:00|233.5     |234.5     |225.550003|228.820007|228.820007|22418300|\n",
      "|2019-07-26 00:00:00|226.919998|230.259995|222.25    |228.039993|228.039993|10027700|\n",
      "|2019-07-29 00:00:00|227.089996|235.940002|226.029999|235.770004|235.770004|9273300 |\n",
      "|2019-07-30 00:00:00|232.899994|243.360001|232.179993|242.259995|242.259995|8109000 |\n",
      "|2019-07-31 00:00:00|243.0     |246.679993|236.649994|241.610001|241.610001|9178200 |\n",
      "|2019-08-01 00:00:00|242.649994|244.509995|231.770004|233.850006|233.850006|8259500 |\n",
      "|2019-08-02 00:00:00|231.350006|236.270004|229.229996|234.339996|234.339996|6136500 |\n",
      "|2019-08-05 00:00:00|229.600006|231.369995|225.779999|228.320007|228.320007|7028300 |\n",
      "|2019-08-06 00:00:00|231.880005|232.5     |225.75    |230.75    |230.75    |5564200 |\n",
      "|2019-08-07 00:00:00|226.5     |233.570007|225.800003|233.419998|233.419998|4776500 |\n",
      "|2019-08-08 00:00:00|234.449997|239.800003|232.649994|238.300003|238.300003|5274300 |\n",
      "|2019-08-09 00:00:00|236.050003|238.960007|233.809998|235.009995|235.009995|3898200 |\n",
      "+-------------------+----------+----------+----------+----------+----------+--------+\n",
      "only showing top 20 rows\n",
      "\n"
     ]
    }
   ],
   "source": [
    "tesla = spark.read.csv('C:/Users/varsh/Sample_Data/TSLA.csv',header=True,inferSchema=True)\n",
    "tesla.show(truncate=False)"
   ]
  },
  {
   "cell_type": "code",
   "execution_count": 13,
   "metadata": {},
   "outputs": [
    {
     "name": "stdout",
     "output_type": "stream",
     "text": [
      "+-----------+--------------------+---------+---------------+--------+---------+--------------------+-------------+------------+--------------+----------------+-------------+------------+-----------+----------------------+-------------+---------------+---------+---------+----------------+--------------+------------+-----------+-------------+------------------+--------+--------+--------+--------+--------+-------------------+------------+----------------+------------------+------------------+-----------------------+------------------+-------------+---------------+--------------------+----------+----------+----------+----------+----------+---------------------+--------------+------------------+--------------------+\n",
      "|      state|                  ID|      ORI|incident_number|date_HRF| date_SIF|                hour|total_offense|total_victim|total_offender|violence_offense|theft_offense|drug_offense|sex_offense|kidnapping_trafficking|other_offense|gun_involvement|completed|attempted|drug_involvement|property_value|stolen_motor|male_victim|female_victim|unknown_sex_victim|w_victim|b_victim|i_victim|a_victim|p_victim|unknown_race_victim|minor_victim|non_minor_victim|unknown_age_victim|offender_wi_family|offender_outside_family|offender_not_known|male_offender|female_offender|unknown_sex_offender|w_offender|b_offender|i_offender|a_offender|p_offender|unknown_race_offender|minor_offender|non_minor_offender|unknown_age_offender|\n",
      "+-----------+--------------------+---------+---------------+--------+---------+--------------------+-------------+------------+--------------+----------------+-------------+------------+-----------+----------------------+-------------+---------------+---------+---------+----------------+--------------+------------+-----------+-------------+------------------+--------+--------+--------+--------+--------+-------------------+------------+----------------+------------------+------------------+-----------------------+------------------+-------------+---------------+--------------------+----------+----------+----------+----------+----------+---------------------+--------------+------------------+--------------------+\n",
      "|AR-Arkansas|AR0580100_ I0 -A3...|AR0580100|    I0 -A3U72 N|20000210|10feb2000|On or between 110...|            1|           2|             1|               0|            0|           0|          0|                     0|            1|              0|        1|        0|               0|          3000|        null|          0|            2|                 0|       2|       0|       0|       0|       0|                  0|           0|               2|                 0|              null|                   null|              null|            0|              0|                   1|         0|         0|         0|         0|         0|                    1|             0|                 0|                   1|\n",
      "|AR-Arkansas|AR0580100_ I0 -A5...|AR0580100|    I0 -A5U72 N|20000207|07feb2000|On or between 230...|            1|           1|             1|               1|            0|           0|          0|                     0|            0|              0|        1|        0|            null|          null|        null|          0|            1|                 0|       1|       0|       0|       0|       0|                  0|           0|               1|                 0|                 0|                      1|                 0|            1|              0|                   0|         1|         0|         0|         0|         0|                    0|             0|                 1|                   0|\n",
      "|AR-Arkansas|AR0580100_ I0 -AB...|AR0580100|    I0 -ABU72 N|20000210|10feb2000|On or between 100...|            1|           2|             1|               0|            0|           0|          0|                     0|            1|              0|        0|        1|            null|          null|        null|          1|            0|                 1|       0|       0|       0|       0|       0|                  2|           1|               0|                 1|              null|                   null|              null|            1|              0|                   0|         1|         0|         0|         0|         0|                    0|             0|                 1|                   0|\n",
      "|AR-Arkansas|AR0580100_ I0 -AZ...|AR0580100|    I0 -AZU72 N|20000210|10feb2000|On or between 010...|            1|           1|             1|               0|            1|           0|          0|                     0|            0|              0|        1|        0|               0|          5000|           1|          0|            1|                 0|       1|       0|       0|       0|       0|                  0|           0|               1|                 0|              null|                   null|              null|            0|              0|                   1|         0|         0|         0|         0|         0|                    1|             0|                 0|                   1|\n",
      "|AR-Arkansas|AR0580100_ I0 -B5...|AR0580100|    I0 -B5U72 N|20000210|10feb2000|On or between 160...|            1|           2|             1|               0|            0|           0|          0|                     0|            1|              0|        1|        0|               0|            22|        null|          1|            0|                 1|       1|       0|       0|       0|       0|                  1|           0|               1|                 1|              null|                   null|              null|            0|              0|                   1|         0|         0|         0|         0|         0|                    1|             0|                 0|                   1|\n",
      "|AR-Arkansas|AR0580100_ I0 -BQ...|AR0580100|    I0 -BQU72 N|20000209|09feb2000|On or between 200...|            2|           1|             1|               0|            1|           0|          0|                     0|            1|              0|        2|        0|               0|           200|           0|          0|            1|                 0|       1|       0|       0|       0|       0|                  0|           0|               1|                 0|              null|                   null|              null|            0|              0|                   1|         0|         0|         0|         0|         0|                    1|             0|                 0|                   1|\n",
      "|AR-Arkansas|AR0580100_ I0 -CT...|AR0580100|    I0 -CTU72 N|20000120|20jan2000|On or between 170...|            2|           1|             1|               0|            1|           0|          0|                     0|            1|              0|        2|        0|            null|           490|        null|          0|            0|                 1|       0|       0|       0|       0|       0|                  1|           0|               0|                 1|              null|                   null|              null|            0|              0|                   1|         0|         0|         0|         0|         0|                    1|             0|                 0|                   1|\n",
      "|AR-Arkansas|AR0580100_ I0 -ET...|AR0580100|    I0 -ETU72 N|20000210|10feb2000|On or between mid...|            1|           1|             1|               0|            0|           0|          0|                     0|            1|              0|        1|        0|               0|           400|        null|          1|            0|                 0|       1|       0|       0|       0|       0|                  0|           0|               1|                 0|              null|                   null|              null|            1|              0|                   0|         1|         0|         0|         0|         0|                    0|             0|                 1|                   0|\n",
      "|AR-Arkansas|AR0580100_ I0 -MM...|AR0580100|    I0 -MMU72 N|20000205|05feb2000|On or between 180...|            1|           1|             1|               0|            0|           0|          0|                     0|            1|              0|        1|        0|               0|          1900|        null|          1|            0|                 0|       1|       0|       0|       0|       0|                  0|           0|               1|                 0|              null|                   null|              null|            0|              0|                   1|         0|         0|         0|         0|         0|                    1|             0|                 0|                   1|\n",
      "|AR-Arkansas|AR0580100_ I0 -O5...|AR0580100|    I0 -O5U72 N|20000209|09feb2000|On or between 190...|            3|           1|             1|               0|            2|           0|          0|                     0|            1|              0|        3|        0|            null|          3706|        null|          1|            0|                 0|       1|       0|       0|       0|       0|                  0|           0|               1|                 0|              null|                   null|              null|            0|              0|                   1|         0|         0|         0|         0|         0|                    1|             0|                 0|                   1|\n",
      "|AR-Arkansas|AR0580100_ I0 0CE...|AR0580100|    I0 0CEU72 N|20000210|10feb2000|On or between mid...|            1|           1|             1|               0|            1|           0|          0|                     0|            0|              0|        1|        0|            null|          1900|        null|          1|            0|                 0|       1|       0|       0|       0|       0|                  0|           0|               1|                 0|              null|                   null|              null|            0|              0|                   1|         0|         0|         0|         0|         0|                    1|             0|                 0|                   1|\n",
      "|AR-Arkansas|AR0580100_ I0 1MB...|AR0580100|    I0 1MBU72 N|20000211|11feb2000|On or between 080...|            2|           1|             1|               0|            1|           0|          0|                     0|            1|              0|        2|        0|            null|           500|        null|          1|            0|                 0|       1|       0|       0|       0|       0|                  0|           0|               1|                 0|              null|                   null|              null|            0|              0|                   1|         0|         0|         0|         0|         0|                    1|             0|                 0|                   1|\n",
      "|AR-Arkansas|AR0580100_ I0 1VT...|AR0580100|    I0 1VTU72 N|20000212|12feb2000|On or between 180...|            1|           1|             1|               0|            0|           0|          0|                     0|            1|              0|        1|        0|               0|           100|        null|          1|            0|                 0|       1|       0|       0|       0|       0|                  0|           0|               1|                 0|              null|                   null|              null|            1|              0|                   0|         1|         0|         0|         0|         0|                    0|             0|                 1|                   0|\n",
      "|AR-Arkansas|AR0580100_ I0 1W5...|AR0580100|    I0 1W5U72 N|20000201|01feb2000|On or between mid...|            1|           1|             1|               0|            1|           0|          0|                     0|            0|              0|        1|        0|            null|          2400|        null|          1|            0|                 0|       1|       0|       0|       0|       0|                  0|           0|               1|                 0|              null|                   null|              null|            0|              0|                   1|         0|         0|         0|         0|         0|                    1|             0|                 0|                   1|\n",
      "|AR-Arkansas|AR0580100_ I0 AAE...|AR0580100|    I0 AAEU72 N|20000208|08feb2000|On or between 130...|            1|           1|             2|               0|            0|           0|          0|                     0|            1|              0|        1|        0|               0|           200|        null|          0|            1|                 0|       1|       0|       0|       0|       0|                  0|           0|               1|                 0|              null|                   null|              null|            2|              0|                   0|         2|         0|         0|         0|         0|                    0|             2|                 0|                   0|\n",
      "|AR-Arkansas|AR0580100_ I0 AAT...|AR0580100|    I0 AATU72 N|20000203|03feb2000|On or between 180...|            1|           1|             1|               0|            1|           0|          0|                     0|            0|              0|        1|        0|            null|           590|        null|          1|            0|                 0|       1|       0|       0|       0|       0|                  0|           0|               1|                 0|              null|                   null|              null|            0|              0|                   1|         0|         0|         0|         0|         0|                    1|             0|                 0|                   1|\n",
      "|AR-Arkansas|AR0580100_ I0 AMS...|AR0580100|    I0 AMSU72 N|20000203|03feb2000|On or between 070...|            1|           1|             1|               0|            0|           0|          0|                     0|            1|              0|        1|        0|               0|           200|        null|          0|            1|                 0|       1|       0|       0|       0|       0|                  0|           0|               1|                 0|              null|                   null|              null|            0|              0|                   1|         0|         0|         0|         0|         0|                    1|             0|                 0|                   1|\n",
      "|AR-Arkansas|AR0580100_ I0 AMT...|AR0580100|    I0 AMTU72 N|20000205|05feb2000|On or between 160...|            1|           1|             1|               0|            1|           0|          0|                     0|            0|              0|        1|        0|               0|           100|        null|          1|            0|                 0|       1|       0|       0|       0|       0|                  0|           0|               1|                 0|              null|                   null|              null|            0|              0|                   1|         0|         0|         0|         0|         0|                    1|             0|                 0|                   1|\n",
      "|AR-Arkansas|AR0580100_ I0 AO5...|AR0580100|    I0 AO5U72 N|20000207|07feb2000|On or between 220...|            1|           1|             1|               1|            0|           0|          0|                     0|            0|              0|        1|        0|            null|          null|        null|          0|            1|                 0|       1|       0|       0|       0|       0|                  0|           0|               1|                 0|                 0|                      1|                 0|            1|              0|                   0|         1|         0|         0|         0|         0|                    0|             0|                 1|                   0|\n",
      "|AR-Arkansas|AR0580100_ I0 AW3...|AR0580100|    I0 AW3U72 N|20000208|08feb2000|On or between 090...|            1|           1|             1|               0|            1|           0|          0|                     0|            0|              0|        1|        0|               0|             6|        null|          0|            0|                 1|       0|       0|       0|       0|       0|                  1|           0|               0|                 1|              null|                   null|              null|            1|              0|                   0|         1|         0|         0|         0|         0|                    0|             0|                 1|                   0|\n",
      "+-----------+--------------------+---------+---------------+--------+---------+--------------------+-------------+------------+--------------+----------------+-------------+------------+-----------+----------------------+-------------+---------------+---------+---------+----------------+--------------+------------+-----------+-------------+------------------+--------+--------+--------+--------+--------+-------------------+------------+----------------+------------------+------------------+-----------------------+------------------+-------------+---------------+--------------------+----------+----------+----------+----------+----------+---------------------+--------------+------------------+--------------------+\n",
      "only showing top 20 rows\n",
      "\n"
     ]
    }
   ],
   "source": [
    "incidents = spark.read.csv('C:/Users/varsh/Sample_Data/IncidentLevelCSV/Individual*',header=True,inferSchema=True)\n",
    "incidents.show()"
   ]
  },
  {
   "cell_type": "code",
   "execution_count": 14,
   "metadata": {},
   "outputs": [
    {
     "name": "stdout",
     "output_type": "stream",
     "text": [
      "28\n"
     ]
    }
   ],
   "source": [
    "print(incidents.rdd.getNumPartitions())"
   ]
  },
  {
   "cell_type": "markdown",
   "metadata": {},
   "source": []
  },
  {
   "cell_type": "code",
   "execution_count": 15,
   "metadata": {},
   "outputs": [
    {
     "name": "stdout",
     "output_type": "stream",
     "text": [
      "4\n"
     ]
    }
   ],
   "source": [
    "print(spark.sparkContext.defaultParallelism) \n",
    "# default value is local[*] or total no of cores available in the spark cluster\n",
    "# Only 4 tasks runs at a time"
   ]
  },
  {
   "cell_type": "code",
   "execution_count": 16,
   "metadata": {},
   "outputs": [
    {
     "name": "stdout",
     "output_type": "stream",
     "text": [
      "root\n",
      " |-- state: string (nullable = true)\n",
      " |-- ID: string (nullable = true)\n",
      " |-- ORI: string (nullable = true)\n",
      " |-- incident_number: string (nullable = true)\n",
      " |-- date_HRF: integer (nullable = true)\n",
      " |-- date_SIF: string (nullable = true)\n",
      " |-- hour: string (nullable = true)\n",
      " |-- total_offense: integer (nullable = true)\n",
      " |-- total_victim: integer (nullable = true)\n",
      " |-- total_offender: integer (nullable = true)\n",
      " |-- violence_offense: integer (nullable = true)\n",
      " |-- theft_offense: integer (nullable = true)\n",
      " |-- drug_offense: integer (nullable = true)\n",
      " |-- sex_offense: integer (nullable = true)\n",
      " |-- kidnapping_trafficking: integer (nullable = true)\n",
      " |-- other_offense: integer (nullable = true)\n",
      " |-- gun_involvement: integer (nullable = true)\n",
      " |-- completed: integer (nullable = true)\n",
      " |-- attempted: integer (nullable = true)\n",
      " |-- drug_involvement: integer (nullable = true)\n",
      " |-- property_value: integer (nullable = true)\n",
      " |-- stolen_motor: integer (nullable = true)\n",
      " |-- male_victim: integer (nullable = true)\n",
      " |-- female_victim: integer (nullable = true)\n",
      " |-- unknown_sex_victim: integer (nullable = true)\n",
      " |-- w_victim: integer (nullable = true)\n",
      " |-- b_victim: integer (nullable = true)\n",
      " |-- i_victim: integer (nullable = true)\n",
      " |-- a_victim: integer (nullable = true)\n",
      " |-- p_victim: integer (nullable = true)\n",
      " |-- unknown_race_victim: integer (nullable = true)\n",
      " |-- minor_victim: integer (nullable = true)\n",
      " |-- non_minor_victim: integer (nullable = true)\n",
      " |-- unknown_age_victim: integer (nullable = true)\n",
      " |-- offender_wi_family: integer (nullable = true)\n",
      " |-- offender_outside_family: integer (nullable = true)\n",
      " |-- offender_not_known: integer (nullable = true)\n",
      " |-- male_offender: integer (nullable = true)\n",
      " |-- female_offender: integer (nullable = true)\n",
      " |-- unknown_sex_offender: integer (nullable = true)\n",
      " |-- w_offender: integer (nullable = true)\n",
      " |-- b_offender: integer (nullable = true)\n",
      " |-- i_offender: integer (nullable = true)\n",
      " |-- a_offender: integer (nullable = true)\n",
      " |-- p_offender: integer (nullable = true)\n",
      " |-- unknown_race_offender: integer (nullable = true)\n",
      " |-- minor_offender: integer (nullable = true)\n",
      " |-- non_minor_offender: integer (nullable = true)\n",
      " |-- unknown_age_offender: integer (nullable = true)\n",
      "\n"
     ]
    }
   ],
   "source": [
    "incidents.printSchema()"
   ]
  },
  {
   "cell_type": "code",
   "execution_count": 17,
   "metadata": {},
   "outputs": [
    {
     "name": "stdout",
     "output_type": "stream",
     "text": [
      "+-----------+--------------------+---------+---------------+--------+---------+--------------------+-------------+------------+--------------+----------------+-------------+------------+-----------+----------------------+-------------+---------------+---------+---------+----------------+--------------+------------+-----------+-------------+------------------+--------+--------+--------+--------+--------+-------------------+------------+----------------+------------------+------------------+-----------------------+------------------+-------------+---------------+--------------------+----------+----------+----------+----------+----------+---------------------+--------------+------------------+--------------------+\n",
      "|      state|                  ID|      ORI|incident_number|date_HRF| date_SIF|                hour|total_offense|total_victim|total_offender|violence_offense|theft_offense|drug_offense|sex_offense|kidnapping_trafficking|other_offense|gun_involvement|completed|attempted|drug_involvement|property_value|stolen_motor|male_victim|female_victim|unknown_sex_victim|w_victim|b_victim|i_victim|a_victim|p_victim|unknown_race_victim|minor_victim|non_minor_victim|unknown_age_victim|offender_wi_family|offender_outside_family|offender_not_known|male_offender|female_offender|unknown_sex_offender|w_offender|b_offender|i_offender|a_offender|p_offender|unknown_race_offender|minor_offender|non_minor_offender|unknown_age_offender|\n",
      "+-----------+--------------------+---------+---------------+--------+---------+--------------------+-------------+------------+--------------+----------------+-------------+------------+-----------+----------------------+-------------+---------------+---------+---------+----------------+--------------+------------+-----------+-------------+------------------+--------+--------+--------+--------+--------+-------------------+------------+----------------+------------------+------------------+-----------------------+------------------+-------------+---------------+--------------------+----------+----------+----------+----------+----------+---------------------+--------------+------------------+--------------------+\n",
      "|AR-Arkansas|AR0580100_ I0 -A3...|AR0580100|    I0 -A3U72 N|20000210|10feb2000|On or between 110...|            1|           2|             1|               0|            0|           0|          0|                     0|            1|              0|        1|        0|               0|          3000|        null|          0|            2|                 0|       2|       0|       0|       0|       0|                  0|           0|               2|                 0|              null|                   null|              null|            0|              0|                   1|         0|         0|         0|         0|         0|                    1|             0|                 0|                   1|\n",
      "|AR-Arkansas|AR0580100_ I0 -A5...|AR0580100|    I0 -A5U72 N|20000207|07feb2000|On or between 230...|            1|           1|             1|               1|            0|           0|          0|                     0|            0|              0|        1|        0|            null|          null|        null|          0|            1|                 0|       1|       0|       0|       0|       0|                  0|           0|               1|                 0|                 0|                      1|                 0|            1|              0|                   0|         1|         0|         0|         0|         0|                    0|             0|                 1|                   0|\n",
      "|AR-Arkansas|AR0580100_ I0 -AB...|AR0580100|    I0 -ABU72 N|20000210|10feb2000|On or between 100...|            1|           2|             1|               0|            0|           0|          0|                     0|            1|              0|        0|        1|            null|          null|        null|          1|            0|                 1|       0|       0|       0|       0|       0|                  2|           1|               0|                 1|              null|                   null|              null|            1|              0|                   0|         1|         0|         0|         0|         0|                    0|             0|                 1|                   0|\n",
      "|AR-Arkansas|AR0580100_ I0 -AZ...|AR0580100|    I0 -AZU72 N|20000210|10feb2000|On or between 010...|            1|           1|             1|               0|            1|           0|          0|                     0|            0|              0|        1|        0|               0|          5000|           1|          0|            1|                 0|       1|       0|       0|       0|       0|                  0|           0|               1|                 0|              null|                   null|              null|            0|              0|                   1|         0|         0|         0|         0|         0|                    1|             0|                 0|                   1|\n",
      "|AR-Arkansas|AR0580100_ I0 -B5...|AR0580100|    I0 -B5U72 N|20000210|10feb2000|On or between 160...|            1|           2|             1|               0|            0|           0|          0|                     0|            1|              0|        1|        0|               0|            22|        null|          1|            0|                 1|       1|       0|       0|       0|       0|                  1|           0|               1|                 1|              null|                   null|              null|            0|              0|                   1|         0|         0|         0|         0|         0|                    1|             0|                 0|                   1|\n",
      "|AR-Arkansas|AR0580100_ I0 -BQ...|AR0580100|    I0 -BQU72 N|20000209|09feb2000|On or between 200...|            2|           1|             1|               0|            1|           0|          0|                     0|            1|              0|        2|        0|               0|           200|           0|          0|            1|                 0|       1|       0|       0|       0|       0|                  0|           0|               1|                 0|              null|                   null|              null|            0|              0|                   1|         0|         0|         0|         0|         0|                    1|             0|                 0|                   1|\n",
      "|AR-Arkansas|AR0580100_ I0 -CT...|AR0580100|    I0 -CTU72 N|20000120|20jan2000|On or between 170...|            2|           1|             1|               0|            1|           0|          0|                     0|            1|              0|        2|        0|            null|           490|        null|          0|            0|                 1|       0|       0|       0|       0|       0|                  1|           0|               0|                 1|              null|                   null|              null|            0|              0|                   1|         0|         0|         0|         0|         0|                    1|             0|                 0|                   1|\n",
      "|AR-Arkansas|AR0580100_ I0 -ET...|AR0580100|    I0 -ETU72 N|20000210|10feb2000|On or between mid...|            1|           1|             1|               0|            0|           0|          0|                     0|            1|              0|        1|        0|               0|           400|        null|          1|            0|                 0|       1|       0|       0|       0|       0|                  0|           0|               1|                 0|              null|                   null|              null|            1|              0|                   0|         1|         0|         0|         0|         0|                    0|             0|                 1|                   0|\n",
      "|AR-Arkansas|AR0580100_ I0 -MM...|AR0580100|    I0 -MMU72 N|20000205|05feb2000|On or between 180...|            1|           1|             1|               0|            0|           0|          0|                     0|            1|              0|        1|        0|               0|          1900|        null|          1|            0|                 0|       1|       0|       0|       0|       0|                  0|           0|               1|                 0|              null|                   null|              null|            0|              0|                   1|         0|         0|         0|         0|         0|                    1|             0|                 0|                   1|\n",
      "|AR-Arkansas|AR0580100_ I0 -O5...|AR0580100|    I0 -O5U72 N|20000209|09feb2000|On or between 190...|            3|           1|             1|               0|            2|           0|          0|                     0|            1|              0|        3|        0|            null|          3706|        null|          1|            0|                 0|       1|       0|       0|       0|       0|                  0|           0|               1|                 0|              null|                   null|              null|            0|              0|                   1|         0|         0|         0|         0|         0|                    1|             0|                 0|                   1|\n",
      "|AR-Arkansas|AR0580100_ I0 0CE...|AR0580100|    I0 0CEU72 N|20000210|10feb2000|On or between mid...|            1|           1|             1|               0|            1|           0|          0|                     0|            0|              0|        1|        0|            null|          1900|        null|          1|            0|                 0|       1|       0|       0|       0|       0|                  0|           0|               1|                 0|              null|                   null|              null|            0|              0|                   1|         0|         0|         0|         0|         0|                    1|             0|                 0|                   1|\n",
      "|AR-Arkansas|AR0580100_ I0 1MB...|AR0580100|    I0 1MBU72 N|20000211|11feb2000|On or between 080...|            2|           1|             1|               0|            1|           0|          0|                     0|            1|              0|        2|        0|            null|           500|        null|          1|            0|                 0|       1|       0|       0|       0|       0|                  0|           0|               1|                 0|              null|                   null|              null|            0|              0|                   1|         0|         0|         0|         0|         0|                    1|             0|                 0|                   1|\n",
      "|AR-Arkansas|AR0580100_ I0 1VT...|AR0580100|    I0 1VTU72 N|20000212|12feb2000|On or between 180...|            1|           1|             1|               0|            0|           0|          0|                     0|            1|              0|        1|        0|               0|           100|        null|          1|            0|                 0|       1|       0|       0|       0|       0|                  0|           0|               1|                 0|              null|                   null|              null|            1|              0|                   0|         1|         0|         0|         0|         0|                    0|             0|                 1|                   0|\n",
      "|AR-Arkansas|AR0580100_ I0 1W5...|AR0580100|    I0 1W5U72 N|20000201|01feb2000|On or between mid...|            1|           1|             1|               0|            1|           0|          0|                     0|            0|              0|        1|        0|            null|          2400|        null|          1|            0|                 0|       1|       0|       0|       0|       0|                  0|           0|               1|                 0|              null|                   null|              null|            0|              0|                   1|         0|         0|         0|         0|         0|                    1|             0|                 0|                   1|\n",
      "|AR-Arkansas|AR0580100_ I0 AAE...|AR0580100|    I0 AAEU72 N|20000208|08feb2000|On or between 130...|            1|           1|             2|               0|            0|           0|          0|                     0|            1|              0|        1|        0|               0|           200|        null|          0|            1|                 0|       1|       0|       0|       0|       0|                  0|           0|               1|                 0|              null|                   null|              null|            2|              0|                   0|         2|         0|         0|         0|         0|                    0|             2|                 0|                   0|\n",
      "|AR-Arkansas|AR0580100_ I0 AAT...|AR0580100|    I0 AATU72 N|20000203|03feb2000|On or between 180...|            1|           1|             1|               0|            1|           0|          0|                     0|            0|              0|        1|        0|            null|           590|        null|          1|            0|                 0|       1|       0|       0|       0|       0|                  0|           0|               1|                 0|              null|                   null|              null|            0|              0|                   1|         0|         0|         0|         0|         0|                    1|             0|                 0|                   1|\n",
      "|AR-Arkansas|AR0580100_ I0 AMS...|AR0580100|    I0 AMSU72 N|20000203|03feb2000|On or between 070...|            1|           1|             1|               0|            0|           0|          0|                     0|            1|              0|        1|        0|               0|           200|        null|          0|            1|                 0|       1|       0|       0|       0|       0|                  0|           0|               1|                 0|              null|                   null|              null|            0|              0|                   1|         0|         0|         0|         0|         0|                    1|             0|                 0|                   1|\n",
      "|AR-Arkansas|AR0580100_ I0 AMT...|AR0580100|    I0 AMTU72 N|20000205|05feb2000|On or between 160...|            1|           1|             1|               0|            1|           0|          0|                     0|            0|              0|        1|        0|               0|           100|        null|          1|            0|                 0|       1|       0|       0|       0|       0|                  0|           0|               1|                 0|              null|                   null|              null|            0|              0|                   1|         0|         0|         0|         0|         0|                    1|             0|                 0|                   1|\n",
      "|AR-Arkansas|AR0580100_ I0 AO5...|AR0580100|    I0 AO5U72 N|20000207|07feb2000|On or between 220...|            1|           1|             1|               1|            0|           0|          0|                     0|            0|              0|        1|        0|            null|          null|        null|          0|            1|                 0|       1|       0|       0|       0|       0|                  0|           0|               1|                 0|                 0|                      1|                 0|            1|              0|                   0|         1|         0|         0|         0|         0|                    0|             0|                 1|                   0|\n",
      "|AR-Arkansas|AR0580100_ I0 AW3...|AR0580100|    I0 AW3U72 N|20000208|08feb2000|On or between 090...|            1|           1|             1|               0|            1|           0|          0|                     0|            0|              0|        1|        0|               0|             6|        null|          0|            0|                 1|       0|       0|       0|       0|       0|                  1|           0|               0|                 1|              null|                   null|              null|            1|              0|                   0|         1|         0|         0|         0|         0|                    0|             0|                 1|                   0|\n",
      "+-----------+--------------------+---------+---------------+--------+---------+--------------------+-------------+------------+--------------+----------------+-------------+------------+-----------+----------------------+-------------+---------------+---------+---------+----------------+--------------+------------+-----------+-------------+------------------+--------+--------+--------+--------+--------+-------------------+------------+----------------+------------------+------------------+-----------------------+------------------+-------------+---------------+--------------------+----------+----------+----------+----------+----------+---------------------+--------------+------------------+--------------------+\n",
      "only showing top 20 rows\n",
      "\n"
     ]
    }
   ],
   "source": [
    "incidents.cache()\n",
    "incidents.show()"
   ]
  },
  {
   "cell_type": "code",
   "execution_count": 22,
   "metadata": {},
   "outputs": [
    {
     "name": "stdout",
     "output_type": "stream",
     "text": [
      "+------+--------+----------+\n",
      "|Emp_id|Emp_name|Manager_id|\n",
      "+------+--------+----------+\n",
      "|     1|  Rakesh|         1|\n",
      "|     2|   Manoj|         1|\n",
      "|     3|  Swetha|         1|\n",
      "|     4|    Hema|         2|\n",
      "|     5|  Hasini|         2|\n",
      "|     6|   Jacob|         2|\n",
      "|     7|   Mayil|         3|\n",
      "|     8|    Mona|         3|\n",
      "|     9|    Mani|         3|\n",
      "|    10|   Megha|         4|\n",
      "|    11|  Geetha|         4|\n",
      "|    12| Gowtham|         4|\n",
      "|    13|  Ganesh|         5|\n",
      "|    14|     Vel|         5|\n",
      "|    15|    Vani|         5|\n",
      "|    16| Vadivel|         5|\n",
      "|    17|   Mohan|         5|\n",
      "|    18|   Majnu|         5|\n",
      "|    19|   Kavya|         5|\n",
      "|    20|Santhiya|         5|\n",
      "+------+--------+----------+\n",
      "\n"
     ]
    }
   ],
   "source": [
    "from pyspark.sql.types import *\n",
    "\n",
    "Emp_schema = StructType(\n",
    "    [StructField('Emp_id',IntegerType()),\n",
    "    StructField('Emp_name',StringType()),\n",
    "    StructField('Manager_id',StringType())]\n",
    ")\n",
    "\n",
    "employees = spark.read.schema(Emp_schema).csv('C:/Users/varsh/Sample_Data/employees.csv')\n",
    "employees.show()\n"
   ]
  },
  {
   "cell_type": "code",
   "execution_count": 23,
   "metadata": {},
   "outputs": [],
   "source": [
    "import findspark\n",
    "\n",
    "findspark.init()"
   ]
  },
  {
   "cell_type": "code",
   "execution_count": 20,
   "metadata": {},
   "outputs": [
    {
     "name": "stdout",
     "output_type": "stream",
     "text": [
      "+----------+------------+\n",
      "|Manager_id|Manager_name|\n",
      "+----------+------------+\n",
      "|         1|     Karthik|\n",
      "|         2|      Ganesh|\n",
      "|         3|      Thambi|\n",
      "|         4|      Mayils|\n",
      "|         5|       Surya|\n",
      "+----------+------------+\n",
      "\n"
     ]
    }
   ],
   "source": [
    "\n",
    "Manager_schema = StructType(\n",
    "    [StructField('Manager_id',IntegerType()),\n",
    "    StructField('Manager_name',StringType())]\n",
    ")\n",
    "l = [(1,'Karthik'),(2,'Ganesh'),(3,'Thambi'),(4,'Mayils'),(5,'Surya')]\n",
    "# r = sc.parallelize(l)\n",
    "# r.collect()\n",
    "# manager = r.toDF()\n",
    "manager = spark.createDataFrame(data=l,schema=Manager_schema)\n",
    "manager.show()"
   ]
  },
  {
   "cell_type": "code",
   "execution_count": 24,
   "metadata": {},
   "outputs": [
    {
     "name": "stdout",
     "output_type": "stream",
     "text": [
      "+------+--------+----------+----------+------------+\n",
      "|Emp_id|Emp_name|Manager_id|Manager_id|Manager_name|\n",
      "+------+--------+----------+----------+------------+\n",
      "|     3|  Swetha|         1|         1|     Karthik|\n",
      "|     2|   Manoj|         1|         1|     Karthik|\n",
      "|     1|  Rakesh|         1|         1|     Karthik|\n",
      "|     6|   Jacob|         2|         2|      Ganesh|\n",
      "|     5|  Hasini|         2|         2|      Ganesh|\n",
      "|     4|    Hema|         2|         2|      Ganesh|\n",
      "|     9|    Mani|         3|         3|      Thambi|\n",
      "|     8|    Mona|         3|         3|      Thambi|\n",
      "|     7|   Mayil|         3|         3|      Thambi|\n",
      "|    12| Gowtham|         4|         4|      Mayils|\n",
      "|    11|  Geetha|         4|         4|      Mayils|\n",
      "|    10|   Megha|         4|         4|      Mayils|\n",
      "|    20|Santhiya|         5|         5|       Surya|\n",
      "|    19|   Kavya|         5|         5|       Surya|\n",
      "|    18|   Majnu|         5|         5|       Surya|\n",
      "|    17|   Mohan|         5|         5|       Surya|\n",
      "|    16| Vadivel|         5|         5|       Surya|\n",
      "|    15|    Vani|         5|         5|       Surya|\n",
      "|    14|     Vel|         5|         5|       Surya|\n",
      "|    13|  Ganesh|         5|         5|       Surya|\n",
      "+------+--------+----------+----------+------------+\n",
      "\n"
     ]
    }
   ],
   "source": [
    "df1 = employees.join(manager,employees.Manager_id == manager.Manager_id)\n",
    "df1.show()"
   ]
  },
  {
   "cell_type": "code",
   "execution_count": 25,
   "metadata": {},
   "outputs": [
    {
     "name": "stdout",
     "output_type": "stream",
     "text": [
      "== Parsed Logical Plan ==\n",
      "Join Inner, (cast(Manager_id#2114 as int) = Manager_id#2099)\n",
      ":- Relation [Emp_id#2112,Emp_name#2113,Manager_id#2114] csv\n",
      "+- LogicalRDD [Manager_id#2099, Manager_name#2100], false\n",
      "\n",
      "== Analyzed Logical Plan ==\n",
      "Emp_id: int, Emp_name: string, Manager_id: string, Manager_id: int, Manager_name: string\n",
      "Join Inner, (cast(Manager_id#2114 as int) = Manager_id#2099)\n",
      ":- Relation [Emp_id#2112,Emp_name#2113,Manager_id#2114] csv\n",
      "+- LogicalRDD [Manager_id#2099, Manager_name#2100], false\n",
      "\n",
      "== Optimized Logical Plan ==\n",
      "Join Inner, (cast(Manager_id#2114 as int) = Manager_id#2099)\n",
      ":- Filter isnotnull(Manager_id#2114)\n",
      ":  +- Relation [Emp_id#2112,Emp_name#2113,Manager_id#2114] csv\n",
      "+- Filter isnotnull(Manager_id#2099)\n",
      "   +- LogicalRDD [Manager_id#2099, Manager_name#2100], false\n",
      "\n",
      "== Physical Plan ==\n",
      "AdaptiveSparkPlan isFinalPlan=false\n",
      "+- BroadcastHashJoin [cast(Manager_id#2114 as int)], [Manager_id#2099], Inner, BuildLeft, false\n",
      "   :- BroadcastExchange HashedRelationBroadcastMode(List(cast(cast(input[2, string, false] as int) as bigint)),false), [plan_id=299]\n",
      "   :  +- Filter isnotnull(Manager_id#2114)\n",
      "   :     +- FileScan csv [Emp_id#2112,Emp_name#2113,Manager_id#2114] Batched: false, DataFilters: [isnotnull(Manager_id#2114)], Format: CSV, Location: InMemoryFileIndex(1 paths)[file:/C:/Users/varsh/Sample_Data/employees.csv], PartitionFilters: [], PushedFilters: [IsNotNull(Manager_id)], ReadSchema: struct<Emp_id:int,Emp_name:string,Manager_id:string>\n",
      "   +- Filter isnotnull(Manager_id#2099)\n",
      "      +- Scan ExistingRDD[Manager_id#2099,Manager_name#2100]\n",
      "\n"
     ]
    }
   ],
   "source": [
    "df1.explain(extended=True)"
   ]
  },
  {
   "cell_type": "code",
   "execution_count": 26,
   "metadata": {},
   "outputs": [
    {
     "name": "stdout",
     "output_type": "stream",
     "text": [
      "+------+--------+----------+----------+------------+\n",
      "|Emp_id|Emp_name|Manager_id|Manager_id|Manager_name|\n",
      "+------+--------+----------+----------+------------+\n",
      "|     3|  Swetha|         1|         1|     Karthik|\n",
      "|     2|   Manoj|         1|         1|     Karthik|\n",
      "|     1|  Rakesh|         1|         1|     Karthik|\n",
      "|     6|   Jacob|         2|         2|      Ganesh|\n",
      "|     5|  Hasini|         2|         2|      Ganesh|\n",
      "|     4|    Hema|         2|         2|      Ganesh|\n",
      "|     9|    Mani|         3|         3|      Thambi|\n",
      "|     8|    Mona|         3|         3|      Thambi|\n",
      "|     7|   Mayil|         3|         3|      Thambi|\n",
      "|    12| Gowtham|         4|         4|      Mayils|\n",
      "|    11|  Geetha|         4|         4|      Mayils|\n",
      "|    10|   Megha|         4|         4|      Mayils|\n",
      "|    20|Santhiya|         5|         5|       Surya|\n",
      "|    19|   Kavya|         5|         5|       Surya|\n",
      "|    18|   Majnu|         5|         5|       Surya|\n",
      "|    17|   Mohan|         5|         5|       Surya|\n",
      "|    16| Vadivel|         5|         5|       Surya|\n",
      "|    15|    Vani|         5|         5|       Surya|\n",
      "|    14|     Vel|         5|         5|       Surya|\n",
      "|    13|  Ganesh|         5|         5|       Surya|\n",
      "+------+--------+----------+----------+------------+\n",
      "\n"
     ]
    }
   ],
   "source": [
    "df1.show()"
   ]
  },
  {
   "cell_type": "code",
   "execution_count": 27,
   "metadata": {},
   "outputs": [
    {
     "name": "stdout",
     "output_type": "stream",
     "text": [
      "+--------+\n",
      "|Emp_name|\n",
      "+--------+\n",
      "|  Swetha|\n",
      "|   Manoj|\n",
      "|  Rakesh|\n",
      "|   Jacob|\n",
      "|  Hasini|\n",
      "|    Hema|\n",
      "|    Mani|\n",
      "|    Mona|\n",
      "|   Mayil|\n",
      "| Gowtham|\n",
      "|  Geetha|\n",
      "|   Megha|\n",
      "|Santhiya|\n",
      "|   Kavya|\n",
      "|   Majnu|\n",
      "|   Mohan|\n",
      "| Vadivel|\n",
      "|    Vani|\n",
      "|     Vel|\n",
      "|  Ganesh|\n",
      "+--------+\n",
      "\n",
      "+--------+\n",
      "|Emp_name|\n",
      "+--------+\n",
      "|  Swetha|\n",
      "|   Manoj|\n",
      "|  Rakesh|\n",
      "|   Jacob|\n",
      "|  Hasini|\n",
      "|    Hema|\n",
      "|    Mani|\n",
      "|    Mona|\n",
      "|   Mayil|\n",
      "| Gowtham|\n",
      "|  Geetha|\n",
      "|   Megha|\n",
      "|Santhiya|\n",
      "|   Kavya|\n",
      "|   Majnu|\n",
      "|   Mohan|\n",
      "| Vadivel|\n",
      "|    Vani|\n",
      "|     Vel|\n",
      "|  Ganesh|\n",
      "+--------+\n",
      "\n"
     ]
    }
   ],
   "source": [
    "df1.select('Emp_name').show()\n",
    "df1.select(df1.Emp_name).show()"
   ]
  },
  {
   "cell_type": "code",
   "execution_count": 28,
   "metadata": {},
   "outputs": [
    {
     "name": "stdout",
     "output_type": "stream",
     "text": [
      "+--------+\n",
      "|Emp_name|\n",
      "+--------+\n",
      "|Santhiya|\n",
      "|   Kavya|\n",
      "|   Majnu|\n",
      "|   Mohan|\n",
      "| Vadivel|\n",
      "|    Vani|\n",
      "|     Vel|\n",
      "|  Ganesh|\n",
      "+--------+\n",
      "\n"
     ]
    }
   ],
   "source": [
    "df1.select('Emp_name').filter(df1.Manager_name == 'Surya').show()"
   ]
  },
  {
   "cell_type": "code",
   "execution_count": 29,
   "metadata": {},
   "outputs": [
    {
     "name": "stdout",
     "output_type": "stream",
     "text": [
      "+--------+\n",
      "|Emp_name|\n",
      "+--------+\n",
      "|  Ganesh|\n",
      "|   Kavya|\n",
      "|   Majnu|\n",
      "|   Mohan|\n",
      "|Santhiya|\n",
      "| Vadivel|\n",
      "|    Vani|\n",
      "|     Vel|\n",
      "+--------+\n",
      "\n"
     ]
    }
   ],
   "source": [
    "df1.select('Emp_name').filter(df1.Manager_name == 'Surya').orderBy(df1.Emp_name).show()"
   ]
  },
  {
   "cell_type": "code",
   "execution_count": 30,
   "metadata": {},
   "outputs": [
    {
     "name": "stdout",
     "output_type": "stream",
     "text": [
      "+------------+-----+\n",
      "|Manager_name|count|\n",
      "+------------+-----+\n",
      "|      Ganesh|    3|\n",
      "|     Karthik|    3|\n",
      "|      Mayils|    3|\n",
      "|       Surya|    8|\n",
      "|      Thambi|    3|\n",
      "+------------+-----+\n",
      "\n"
     ]
    }
   ],
   "source": [
    "df1.select(df1.Manager_name).groupBy(df1.Manager_name).count().orderBy(df1.Manager_name).show()"
   ]
  },
  {
   "cell_type": "code",
   "execution_count": 31,
   "metadata": {},
   "outputs": [
    {
     "name": "stdout",
     "output_type": "stream",
     "text": [
      "+------+--------+----------+----------+------------+----+\n",
      "|Emp_id|Emp_name|Manager_id|Manager_id|Manager_name|Abbr|\n",
      "+------+--------+----------+----------+------------+----+\n",
      "|     3|  Swetha|         1|         1|     Karthik|   K|\n",
      "|     2|   Manoj|         1|         1|     Karthik|   K|\n",
      "|     1|  Rakesh|         1|         1|     Karthik|   K|\n",
      "|     6|   Jacob|         2|         2|      Ganesh|   G|\n",
      "|     5|  Hasini|         2|         2|      Ganesh|   G|\n",
      "|     4|    Hema|         2|         2|      Ganesh|   G|\n",
      "|     9|    Mani|         3|         3|      Thambi|   T|\n",
      "|     8|    Mona|         3|         3|      Thambi|   T|\n",
      "|     7|   Mayil|         3|         3|      Thambi|   T|\n",
      "|    12| Gowtham|         4|         4|      Mayils|   M|\n",
      "|    11|  Geetha|         4|         4|      Mayils|   M|\n",
      "|    10|   Megha|         4|         4|      Mayils|   M|\n",
      "|    20|Santhiya|         5|         5|       Surya|   S|\n",
      "|    19|   Kavya|         5|         5|       Surya|   S|\n",
      "|    18|   Majnu|         5|         5|       Surya|   S|\n",
      "|    17|   Mohan|         5|         5|       Surya|   S|\n",
      "|    16| Vadivel|         5|         5|       Surya|   S|\n",
      "|    15|    Vani|         5|         5|       Surya|   S|\n",
      "|    14|     Vel|         5|         5|       Surya|   S|\n",
      "|    13|  Ganesh|         5|         5|       Surya|   S|\n",
      "+------+--------+----------+----------+------------+----+\n",
      "\n"
     ]
    }
   ],
   "source": [
    "df1.withColumn('Abbr',df1.Manager_name.substr(1,1)).show()"
   ]
  },
  {
   "cell_type": "code",
   "execution_count": 32,
   "metadata": {},
   "outputs": [
    {
     "name": "stdout",
     "output_type": "stream",
     "text": [
      "+-------------------+----------+----------+----------+----------+----------+--------+\n",
      "|               Date|      Open|      High|       Low|     Close|  AdjClose|  Volume|\n",
      "+-------------------+----------+----------+----------+----------+----------+--------+\n",
      "|2019-07-15 00:00:00|     248.0|254.419998|244.860001|     253.5|     253.5|11000100|\n",
      "|2019-07-16 00:00:00|249.300003|253.529999|247.929993|252.380005|252.380005| 8149000|\n",
      "+-------------------+----------+----------+----------+----------+----------+--------+\n",
      "only showing top 2 rows\n",
      "\n"
     ]
    }
   ],
   "source": [
    "tesla.show(2)"
   ]
  },
  {
   "cell_type": "code",
   "execution_count": 33,
   "metadata": {},
   "outputs": [
    {
     "name": "stdout",
     "output_type": "stream",
     "text": [
      "root\n",
      " |-- Date: timestamp (nullable = true)\n",
      " |-- Open: double (nullable = true)\n",
      " |-- High: double (nullable = true)\n",
      " |-- Low: double (nullable = true)\n",
      " |-- Close: double (nullable = true)\n",
      " |-- AdjClose: double (nullable = true)\n",
      " |-- Volume: integer (nullable = true)\n",
      "\n"
     ]
    }
   ],
   "source": [
    "tesla.printSchema()"
   ]
  },
  {
   "cell_type": "code",
   "execution_count": 34,
   "metadata": {},
   "outputs": [
    {
     "name": "stdout",
     "output_type": "stream",
     "text": [
      "root\n",
      " |-- Date: timestamp (nullable = true)\n",
      " |-- Open: double (nullable = true)\n",
      " |-- High: double (nullable = true)\n",
      " |-- Low: double (nullable = true)\n",
      " |-- Close: double (nullable = true)\n",
      " |-- AdjClose: double (nullable = true)\n",
      " |-- Volume: string (nullable = true)\n",
      "\n"
     ]
    }
   ],
   "source": [
    "tesla.withColumn('Volume',tesla.Volume.cast(StringType())).printSchema()"
   ]
  },
  {
   "cell_type": "code",
   "execution_count": 35,
   "metadata": {},
   "outputs": [
    {
     "name": "stdout",
     "output_type": "stream",
     "text": [
      "root\n",
      " |-- state: string (nullable = true)\n",
      " |-- ID: string (nullable = true)\n",
      " |-- ORI: string (nullable = true)\n",
      " |-- incident_number: string (nullable = true)\n",
      " |-- date_HRF: integer (nullable = true)\n",
      " |-- date_SIF: string (nullable = true)\n",
      " |-- hour: string (nullable = true)\n",
      " |-- total_offense: integer (nullable = true)\n",
      " |-- total_victim: integer (nullable = true)\n",
      " |-- total_offender: integer (nullable = true)\n",
      " |-- violence_offense: integer (nullable = true)\n",
      " |-- theft_offense: integer (nullable = true)\n",
      " |-- drug_offense: integer (nullable = true)\n",
      " |-- sex_offense: integer (nullable = true)\n",
      " |-- kidnapping_trafficking: integer (nullable = true)\n",
      " |-- other_offense: integer (nullable = true)\n",
      " |-- gun_involvement: integer (nullable = true)\n",
      " |-- completed: integer (nullable = true)\n",
      " |-- attempted: integer (nullable = true)\n",
      " |-- drug_involvement: integer (nullable = true)\n",
      " |-- property_value: integer (nullable = true)\n",
      " |-- stolen_motor: integer (nullable = true)\n",
      " |-- male_victim: integer (nullable = true)\n",
      " |-- female_victim: integer (nullable = true)\n",
      " |-- unknown_sex_victim: integer (nullable = true)\n",
      " |-- w_victim: integer (nullable = true)\n",
      " |-- b_victim: integer (nullable = true)\n",
      " |-- i_victim: integer (nullable = true)\n",
      " |-- a_victim: integer (nullable = true)\n",
      " |-- p_victim: integer (nullable = true)\n",
      " |-- unknown_race_victim: integer (nullable = true)\n",
      " |-- minor_victim: integer (nullable = true)\n",
      " |-- non_minor_victim: integer (nullable = true)\n",
      " |-- unknown_age_victim: integer (nullable = true)\n",
      " |-- offender_wi_family: integer (nullable = true)\n",
      " |-- offender_outside_family: integer (nullable = true)\n",
      " |-- offender_not_known: integer (nullable = true)\n",
      " |-- male_offender: integer (nullable = true)\n",
      " |-- female_offender: integer (nullable = true)\n",
      " |-- unknown_sex_offender: integer (nullable = true)\n",
      " |-- w_offender: integer (nullable = true)\n",
      " |-- b_offender: integer (nullable = true)\n",
      " |-- i_offender: integer (nullable = true)\n",
      " |-- a_offender: integer (nullable = true)\n",
      " |-- p_offender: integer (nullable = true)\n",
      " |-- unknown_race_offender: integer (nullable = true)\n",
      " |-- minor_offender: integer (nullable = true)\n",
      " |-- non_minor_offender: integer (nullable = true)\n",
      " |-- unknown_age_offender: integer (nullable = true)\n",
      "\n"
     ]
    }
   ],
   "source": [
    "incidents.printSchema()"
   ]
  },
  {
   "cell_type": "code",
   "execution_count": 36,
   "metadata": {},
   "outputs": [
    {
     "name": "stdout",
     "output_type": "stream",
     "text": [
      "+-----------+----------------------+---------+---------------+--------+---------+---------------------------+-------------+------------+--------------+----------------+-------------+------------+-----------+----------------------+-------------+---------------+---------+---------+----------------+--------------+------------+-----------+-------------+------------------+--------+--------+--------+--------+--------+-------------------+------------+----------------+------------------+------------------+-----------------------+------------------+-------------+---------------+--------------------+----------+----------+----------+----------+----------+---------------------+--------------+------------------+--------------------+\n",
      "|state      |ID                    |ORI      |incident_number|date_HRF|date_SIF |hour                       |total_offense|total_victim|total_offender|violence_offense|theft_offense|drug_offense|sex_offense|kidnapping_trafficking|other_offense|gun_involvement|completed|attempted|drug_involvement|property_value|stolen_motor|male_victim|female_victim|unknown_sex_victim|w_victim|b_victim|i_victim|a_victim|p_victim|unknown_race_victim|minor_victim|non_minor_victim|unknown_age_victim|offender_wi_family|offender_outside_family|offender_not_known|male_offender|female_offender|unknown_sex_offender|w_offender|b_offender|i_offender|a_offender|p_offender|unknown_race_offender|minor_offender|non_minor_offender|unknown_age_offender|\n",
      "+-----------+----------------------+---------+---------------+--------+---------+---------------------------+-------------+------------+--------------+----------------+-------------+------------+-----------+----------------------+-------------+---------------+---------+---------+----------------+--------------+------------+-----------+-------------+------------------+--------+--------+--------+--------+--------+-------------------+------------+----------------+------------------+------------------+-----------------------+------------------+-------------+---------------+--------------------+----------+----------+----------+----------+----------+---------------------+--------------+------------------+--------------------+\n",
      "|AR-Arkansas|AR0580100_ I0 -A3U72 N|AR0580100| I0 -A3U72 N   |20000210|10feb2000|On or between 1100 and 1159|1            |2           |1             |0               |0            |0           |0          |0                     |1            |0              |1        |0        |0               |3000          |null        |0          |2            |0                 |2       |0       |0       |0       |0       |0                  |0           |2               |0                 |null              |null                   |null              |0            |0              |1                   |0         |0         |0         |0         |0         |1                    |0             |0                 |1                   |\n",
      "|AR-Arkansas|AR0580100_ I0 -A5U72 N|AR0580100| I0 -A5U72 N   |20000207|07feb2000|On or between 2300 and 2359|1            |1           |1             |1               |0            |0           |0          |0                     |0            |0              |1        |0        |null            |null          |null        |0          |1            |0                 |1       |0       |0       |0       |0       |0                  |0           |1               |0                 |0                 |1                      |0                 |1            |0              |0                   |1         |0         |0         |0         |0         |0                    |0             |1                 |0                   |\n",
      "+-----------+----------------------+---------+---------------+--------+---------+---------------------------+-------------+------------+--------------+----------------+-------------+------------+-----------+----------------------+-------------+---------------+---------+---------+----------------+--------------+------------+-----------+-------------+------------------+--------+--------+--------+--------+--------+-------------------+------------+----------------+------------------+------------------+-----------------------+------------------+-------------+---------------+--------------------+----------+----------+----------+----------+----------+---------------------+--------------+------------------+--------------------+\n",
      "only showing top 2 rows\n",
      "\n"
     ]
    }
   ],
   "source": [
    "incidents.show(2,truncate=False)"
   ]
  },
  {
   "cell_type": "code",
   "execution_count": 37,
   "metadata": {},
   "outputs": [
    {
     "name": "stdout",
     "output_type": "stream",
     "text": [
      "+-------------+---------+\n",
      "|total_offense|statement|\n",
      "+-------------+---------+\n",
      "|            1|    Minor|\n",
      "|            1|    Minor|\n",
      "|            1|    Minor|\n",
      "|            1|    Minor|\n",
      "|            1|    Minor|\n",
      "|            2|    Major|\n",
      "|            2|    Major|\n",
      "|            1|    Minor|\n",
      "|            1|    Minor|\n",
      "|            3|    Major|\n",
      "|            1|    Minor|\n",
      "|            2|    Major|\n",
      "|            1|    Minor|\n",
      "|            1|    Minor|\n",
      "|            1|    Minor|\n",
      "|            1|    Minor|\n",
      "|            1|    Minor|\n",
      "|            1|    Minor|\n",
      "|            1|    Minor|\n",
      "|            1|    Minor|\n",
      "+-------------+---------+\n",
      "only showing top 20 rows\n",
      "\n"
     ]
    }
   ],
   "source": [
    "# incidents.select('hour','total_offense').show()\n",
    "\n",
    "def func(i):\n",
    "    if i>1:\n",
    "        return 'Major'\n",
    "    else:\n",
    "        return 'Minor'\n",
    "incidents.withColumn('Statement',when(incidents.total_offense > 1,'Major').otherwise('Minor')).select('total_offense','statement').show()"
   ]
  },
  {
   "cell_type": "code",
   "execution_count": 39,
   "metadata": {},
   "outputs": [
    {
     "name": "stdout",
     "output_type": "stream",
     "text": [
      "+----------+------------+\n",
      "|Manager_id|Manager_name|\n",
      "+----------+------------+\n",
      "|         1|     Karthik|\n",
      "|         2|      Ganesh|\n",
      "|         3|      Thambi|\n",
      "|         4|      Mayils|\n",
      "|         5|       Surya|\n",
      "+----------+------------+\n",
      "\n"
     ]
    }
   ],
   "source": [
    "manager.createOrReplaceTempView('manager')\n",
    "spark.sql('select * from manager').show()"
   ]
  },
  {
   "cell_type": "code",
   "execution_count": 40,
   "metadata": {},
   "outputs": [
    {
     "name": "stdout",
     "output_type": "stream",
     "text": [
      "+------+--------+----------+\n",
      "|Emp_id|Emp_name|Manager_id|\n",
      "+------+--------+----------+\n",
      "|     1|  Rakesh|         1|\n",
      "|     2|   Manoj|         1|\n",
      "|     3|  Swetha|         1|\n",
      "|     4|    Hema|         2|\n",
      "|     5|  Hasini|         2|\n",
      "|     6|   Jacob|         2|\n",
      "|     7|   Mayil|         3|\n",
      "|     8|    Mona|         3|\n",
      "|     9|    Mani|         3|\n",
      "|    10|   Megha|         4|\n",
      "|    11|  Geetha|         4|\n",
      "|    12| Gowtham|         4|\n",
      "|    13|  Ganesh|         5|\n",
      "|    14|     Vel|         5|\n",
      "|    15|    Vani|         5|\n",
      "|    16| Vadivel|         5|\n",
      "|    17|   Mohan|         5|\n",
      "|    18|   Majnu|         5|\n",
      "|    19|   Kavya|         5|\n",
      "|    20|Santhiya|         5|\n",
      "+------+--------+----------+\n",
      "\n"
     ]
    }
   ],
   "source": [
    "employees.createOrReplaceTempView('employees')\n",
    "spark.sql('select * from employees').show()"
   ]
  },
  {
   "cell_type": "code",
   "execution_count": 41,
   "metadata": {},
   "outputs": [
    {
     "name": "stdout",
     "output_type": "stream",
     "text": [
      "+---------+\n",
      "|namespace|\n",
      "+---------+\n",
      "|  default|\n",
      "+---------+\n",
      "\n"
     ]
    }
   ],
   "source": [
    "spark.sql('show databases').show()"
   ]
  },
  {
   "cell_type": "code",
   "execution_count": 42,
   "metadata": {},
   "outputs": [
    {
     "name": "stdout",
     "output_type": "stream",
     "text": [
      "+---------+---------+-----------+\n",
      "|namespace|tableName|isTemporary|\n",
      "+---------+---------+-----------+\n",
      "|         |employees|       true|\n",
      "|         |  manager|       true|\n",
      "+---------+---------+-----------+\n",
      "\n"
     ]
    }
   ],
   "source": [
    "spark.sql('show tables').show()"
   ]
  },
  {
   "cell_type": "code",
   "execution_count": 43,
   "metadata": {},
   "outputs": [
    {
     "name": "stdout",
     "output_type": "stream",
     "text": [
      "+---------+---------+-----------+\n",
      "|namespace|tableName|isTemporary|\n",
      "+---------+---------+-----------+\n",
      "|         |employees|       true|\n",
      "|         |  manager|       true|\n",
      "+---------+---------+-----------+\n",
      "\n"
     ]
    }
   ],
   "source": [
    "spark.sql('show tables in default').show()"
   ]
  },
  {
   "cell_type": "code",
   "execution_count": 44,
   "metadata": {},
   "outputs": [
    {
     "name": "stdout",
     "output_type": "stream",
     "text": [
      "++\n",
      "||\n",
      "++\n",
      "++\n",
      "\n"
     ]
    }
   ],
   "source": [
    "spark.sql('create database permanent').show()"
   ]
  },
  {
   "cell_type": "code",
   "execution_count": 45,
   "metadata": {},
   "outputs": [
    {
     "name": "stdout",
     "output_type": "stream",
     "text": [
      "+---------+\n",
      "|namespace|\n",
      "+---------+\n",
      "|  default|\n",
      "|permanent|\n",
      "+---------+\n",
      "\n"
     ]
    }
   ],
   "source": [
    "spark.sql('show databases').show()"
   ]
  },
  {
   "cell_type": "code",
   "execution_count": 46,
   "metadata": {},
   "outputs": [],
   "source": [
    "employees.write.saveAsTable('permanent.employees')\n",
    "# gets stored in spark-warehouse directory\n",
    "# storage system - local file system\n",
    "# metastore - embedded Derby\n",
    "# creation of permanent tables is not supported in spark 1.x without hive integration\n",
    "# spark by default stores data or reads data in parquet format"
   ]
  },
  {
   "cell_type": "code",
   "execution_count": 47,
   "metadata": {},
   "outputs": [
    {
     "name": "stdout",
     "output_type": "stream",
     "text": [
      "+---------+---------+-----------+\n",
      "|namespace|tableName|isTemporary|\n",
      "+---------+---------+-----------+\n",
      "|permanent|employees|      false|\n",
      "|         |employees|       true|\n",
      "|         |  manager|       true|\n",
      "+---------+---------+-----------+\n",
      "\n"
     ]
    }
   ],
   "source": [
    "spark.sql('show tables in permanent').show()"
   ]
  },
  {
   "cell_type": "code",
   "execution_count": null,
   "metadata": {},
   "outputs": [],
   "source": [
    "mysql = spark.read.format('jdbc').option('url','jdbc:mysql://localhost:3306').\\\n",
    "    option('driver','com.mysql.cj.jdbc.Driver').\\\n",
    "    option('user','user').\\\n",
    "    option('password','pass').\\\n",
    "    option('query','select * from data.country').\\\n",
    "    load()\n",
    "\n",
    "mysql.show()"
   ]
  },
  {
   "cell_type": "code",
   "execution_count": null,
   "metadata": {},
   "outputs": [],
   "source": [
    "manager.write.format('jdbc').mode('overwrite').\\\n",
    "    option('url','jdbc:mysql://localhost:3306/data').\\\n",
    "    option('driver','com.mysql.cj.jdbc.Driver').\\\n",
    "    option('user','user').\\\n",
    "    option('password','pass').\\\n",
    "    option('dbtable','manager').\\\n",
    "    save()"
   ]
  },
  {
   "cell_type": "code",
   "execution_count": null,
   "metadata": {},
   "outputs": [],
   "source": [
    "json_file = spark.read.option('multiline',True).json(\"hdfs://127.0.0.1:9000/data/sample_data/example_2.json\")\n",
    "json_file.printSchema()\n",
    "# By default spark will read the JSON files as a single line, below one will not throw any error.\n",
    "# {'name':'Varshini','ID':1},\n",
    "# {'name':'Santhiya','ID':2}\n",
    "# For multiline, We need to provide the option as multiline\n",
    "\n",
    "json_file.show()"
   ]
  },
  {
   "cell_type": "code",
   "execution_count": null,
   "metadata": {},
   "outputs": [],
   "source": [
    "# https://api.github.com/users\n",
    "\n",
    "import requests\n",
    "import json\n",
    "\n",
    "apidata = requests.request('GET','https://api.github.com/users')"
   ]
  },
  {
   "cell_type": "code",
   "execution_count": null,
   "metadata": {},
   "outputs": [],
   "source": [
    "json_api = json.dumps(apidata.json(),indent=4)\n",
    "# print(len(json_api))\n",
    "# print(json_api)\n",
    "# print(type(json_api))\n",
    "file = open('C:\\\\Users\\\\varsh\\\\Sample_Data\\\\rest_api','w')\n",
    "file.write(json_api)\n",
    "file.close()"
   ]
  },
  {
   "cell_type": "code",
   "execution_count": 48,
   "metadata": {},
   "outputs": [
    {
     "name": "stdout",
     "output_type": "stream",
     "text": [
      "+--------------------+--------------------+--------------------+--------------------+--------------------+-----------+--------------------+---+------------+------------+--------------------+--------------------+--------------------+----------+--------------------+--------------------+----+--------------------+\n",
      "|          avatar_url|          events_url|       followers_url|       following_url|           gists_url|gravatar_id|            html_url| id|       login|     node_id|   organizations_url| received_events_url|           repos_url|site_admin|         starred_url|   subscriptions_url|type|                 url|\n",
      "+--------------------+--------------------+--------------------+--------------------+--------------------+-----------+--------------------+---+------------+------------+--------------------+--------------------+--------------------+----------+--------------------+--------------------+----+--------------------+\n",
      "|https://avatars.g...|https://api.githu...|https://api.githu...|https://api.githu...|https://api.githu...|           |https://github.co...|  1|     mojombo|MDQ6VXNlcjE=|https://api.githu...|https://api.githu...|https://api.githu...|     false|https://api.githu...|https://api.githu...|User|https://api.githu...|\n",
      "|https://avatars.g...|https://api.githu...|https://api.githu...|https://api.githu...|https://api.githu...|           |https://github.co...|  2|     defunkt|MDQ6VXNlcjI=|https://api.githu...|https://api.githu...|https://api.githu...|     false|https://api.githu...|https://api.githu...|User|https://api.githu...|\n",
      "|https://avatars.g...|https://api.githu...|https://api.githu...|https://api.githu...|https://api.githu...|           |https://github.co...|  3|     pjhyett|MDQ6VXNlcjM=|https://api.githu...|https://api.githu...|https://api.githu...|     false|https://api.githu...|https://api.githu...|User|https://api.githu...|\n",
      "|https://avatars.g...|https://api.githu...|https://api.githu...|https://api.githu...|https://api.githu...|           |https://github.co...|  4|      wycats|MDQ6VXNlcjQ=|https://api.githu...|https://api.githu...|https://api.githu...|     false|https://api.githu...|https://api.githu...|User|https://api.githu...|\n",
      "|https://avatars.g...|https://api.githu...|https://api.githu...|https://api.githu...|https://api.githu...|           |https://github.co...|  5|    ezmobius|MDQ6VXNlcjU=|https://api.githu...|https://api.githu...|https://api.githu...|     false|https://api.githu...|https://api.githu...|User|https://api.githu...|\n",
      "|https://avatars.g...|https://api.githu...|https://api.githu...|https://api.githu...|https://api.githu...|           |https://github.co...|  6|        ivey|MDQ6VXNlcjY=|https://api.githu...|https://api.githu...|https://api.githu...|     false|https://api.githu...|https://api.githu...|User|https://api.githu...|\n",
      "|https://avatars.g...|https://api.githu...|https://api.githu...|https://api.githu...|https://api.githu...|           |https://github.co...|  7|     evanphx|MDQ6VXNlcjc=|https://api.githu...|https://api.githu...|https://api.githu...|     false|https://api.githu...|https://api.githu...|User|https://api.githu...|\n",
      "|https://avatars.g...|https://api.githu...|https://api.githu...|https://api.githu...|https://api.githu...|           |https://github.co...| 17|     vanpelt|MDQ6VXNlcjE3|https://api.githu...|https://api.githu...|https://api.githu...|     false|https://api.githu...|https://api.githu...|User|https://api.githu...|\n",
      "|https://avatars.g...|https://api.githu...|https://api.githu...|https://api.githu...|https://api.githu...|           |https://github.co...| 18|wayneeseguin|MDQ6VXNlcjE4|https://api.githu...|https://api.githu...|https://api.githu...|     false|https://api.githu...|https://api.githu...|User|https://api.githu...|\n",
      "|https://avatars.g...|https://api.githu...|https://api.githu...|https://api.githu...|https://api.githu...|           |https://github.co...| 19|     brynary|MDQ6VXNlcjE5|https://api.githu...|https://api.githu...|https://api.githu...|     false|https://api.githu...|https://api.githu...|User|https://api.githu...|\n",
      "|https://avatars.g...|https://api.githu...|https://api.githu...|https://api.githu...|https://api.githu...|           |https://github.co...| 20|  kevinclark|MDQ6VXNlcjIw|https://api.githu...|https://api.githu...|https://api.githu...|     false|https://api.githu...|https://api.githu...|User|https://api.githu...|\n",
      "|https://avatars.g...|https://api.githu...|https://api.githu...|https://api.githu...|https://api.githu...|           |https://github.co...| 21|technoweenie|MDQ6VXNlcjIx|https://api.githu...|https://api.githu...|https://api.githu...|     false|https://api.githu...|https://api.githu...|User|https://api.githu...|\n",
      "|https://avatars.g...|https://api.githu...|https://api.githu...|https://api.githu...|https://api.githu...|           |https://github.co...| 22| macournoyer|MDQ6VXNlcjIy|https://api.githu...|https://api.githu...|https://api.githu...|     false|https://api.githu...|https://api.githu...|User|https://api.githu...|\n",
      "|https://avatars.g...|https://api.githu...|https://api.githu...|https://api.githu...|https://api.githu...|           |https://github.co...| 23|       takeo|MDQ6VXNlcjIz|https://api.githu...|https://api.githu...|https://api.githu...|     false|https://api.githu...|https://api.githu...|User|https://api.githu...|\n",
      "|https://avatars.g...|https://api.githu...|https://api.githu...|https://api.githu...|https://api.githu...|           |https://github.co...| 25|       caged|MDQ6VXNlcjI1|https://api.githu...|https://api.githu...|https://api.githu...|     false|https://api.githu...|https://api.githu...|User|https://api.githu...|\n",
      "|https://avatars.g...|https://api.githu...|https://api.githu...|https://api.githu...|https://api.githu...|           |https://github.co...| 26|    topfunky|MDQ6VXNlcjI2|https://api.githu...|https://api.githu...|https://api.githu...|     false|https://api.githu...|https://api.githu...|User|https://api.githu...|\n",
      "|https://avatars.g...|https://api.githu...|https://api.githu...|https://api.githu...|https://api.githu...|           |https://github.co...| 27|anotherjesse|MDQ6VXNlcjI3|https://api.githu...|https://api.githu...|https://api.githu...|     false|https://api.githu...|https://api.githu...|User|https://api.githu...|\n",
      "|https://avatars.g...|https://api.githu...|https://api.githu...|https://api.githu...|https://api.githu...|           |https://github.co...| 28|      roland|MDQ6VXNlcjI4|https://api.githu...|https://api.githu...|https://api.githu...|     false|https://api.githu...|https://api.githu...|User|https://api.githu...|\n",
      "|https://avatars.g...|https://api.githu...|https://api.githu...|https://api.githu...|https://api.githu...|           |https://github.co...| 29|       lukas|MDQ6VXNlcjI5|https://api.githu...|https://api.githu...|https://api.githu...|     false|https://api.githu...|https://api.githu...|User|https://api.githu...|\n",
      "|https://avatars.g...|https://api.githu...|https://api.githu...|https://api.githu...|https://api.githu...|           |https://github.co...| 30|    fanvsfan|MDQ6VXNlcjMw|https://api.githu...|https://api.githu...|https://api.githu...|     false|https://api.githu...|https://api.githu...|User|https://api.githu...|\n",
      "+--------------------+--------------------+--------------------+--------------------+--------------------+-----------+--------------------+---+------------+------------+--------------------+--------------------+--------------------+----------+--------------------+--------------------+----+--------------------+\n",
      "only showing top 20 rows\n",
      "\n"
     ]
    }
   ],
   "source": [
    "df_api_json = spark.read.option('multiline',True).json('C:/Users/varsh/Sample_Data/rest_api')\n",
    "df_api_json.show()"
   ]
  },
  {
   "cell_type": "code",
   "execution_count": null,
   "metadata": {},
   "outputs": [],
   "source": [
    "# Hive --- Data (HDFS or distributed file system), Metadata (RDBMS)\n",
    "# Hive used HQL\n",
    "# It is a data warehouse used for analysis using SQL language\n",
    "# Hive-on-MR is deprecated in Hive 2 and may not be available in the future versions. Consider using a different execution engine (i.e. spark, tez) or using Hive 1.X releases.\n",
    "\n",
    "# In hive>conf>hive-site.xml set the value of hive.execution.engine to spark or tez.\n",
    "\n",
    "\n",
    "# Configuration of Hive is done by placing your hive-site.xml, core-site.xml (for security configuration), and hdfs-site.xml (for HDFS configuration) file in conf/.\n",
    "\n",
    "# When not configured by the hive-site.xml, the context automatically creates metastore_db in the current directory and creates a directory configured by spark.sql.warehouse.dir, which defaults to the directory spark-warehouse in the current directory that the Spark application is started. Note that the hive.metastore.warehouse.dir property in hive-site.xml is deprecated since Spark 2.0.0. Instead, use spark.sql.warehouse.dir to specify the default location of database in warehouse. You may need to grant write privilege to the user who starts the Spark application."
   ]
  },
  {
   "cell_type": "code",
   "execution_count": 52,
   "metadata": {},
   "outputs": [
    {
     "data": {
      "text/plain": [
       "['aa', 'b', 'a', 'bbb', 'bb']"
      ]
     },
     "execution_count": 52,
     "metadata": {},
     "output_type": "execute_result"
    }
   ],
   "source": [
    "words = spark.sparkContext.parallelize(['a','aa','a','aa','a','b','bb','bbb','a','aa','bbb'])\n",
    "# words.collect()\n",
    "# words.count()\n",
    "words.sortBy(lambda a:a).collect()\n",
    "words.distinct().collect()"
   ]
  },
  {
   "cell_type": "code",
   "execution_count": 53,
   "metadata": {},
   "outputs": [
    {
     "data": {
      "text/plain": [
       "[('a', 1),\n",
       " ('aa', 1),\n",
       " ('a', 1),\n",
       " ('aa', 1),\n",
       " ('a', 1),\n",
       " ('b', 1),\n",
       " ('bb', 1),\n",
       " ('bbb', 1),\n",
       " ('a', 1),\n",
       " ('aa', 1),\n",
       " ('bbb', 1)]"
      ]
     },
     "execution_count": 53,
     "metadata": {},
     "output_type": "execute_result"
    }
   ],
   "source": [
    "word_map = words.map(lambda a:(a,1))\n",
    "word_map.collect()"
   ]
  },
  {
   "cell_type": "code",
   "execution_count": 54,
   "metadata": {},
   "outputs": [
    {
     "data": {
      "text/plain": [
       "[('aa', 3), ('b', 1), ('a', 4), ('bbb', 2), ('bb', 1)]"
      ]
     },
     "execution_count": 54,
     "metadata": {},
     "output_type": "execute_result"
    }
   ],
   "source": [
    "word_reduce = word_map.reduceByKey(lambda a,b:a+b)\n",
    "word_reduce.collect()"
   ]
  },
  {
   "cell_type": "code",
   "execution_count": 49,
   "metadata": {},
   "outputs": [
    {
     "data": {
      "text/plain": [
       "['Hi, I am Varshini',\n",
       " 'I am currently learning spark',\n",
       " 'Spark is very interesting big data technology',\n",
       " 'I am delighted to use it ',\n",
       " 'Thank you for your time and dedication',\n",
       " 'I am proud of you ',\n",
       " 'Keep learning',\n",
       " 'Keep upgrading',\n",
       " 'Keep inspiring']"
      ]
     },
     "execution_count": 49,
     "metadata": {},
     "output_type": "execute_result"
    }
   ],
   "source": [
    "text = spark.sparkContext.textFile('C:/Users/varsh/Sample_Data/varshini.txt')\n",
    "text.collect()"
   ]
  },
  {
   "cell_type": "code",
   "execution_count": 50,
   "metadata": {},
   "outputs": [],
   "source": [
    "text_fm = text.flatMap(lambda a:a.split(' '))\n",
    "text_fm.saveAsTextFile('C:/Users/varsh/Sample_Data/word_count_result')"
   ]
  },
  {
   "cell_type": "code",
   "execution_count": 51,
   "metadata": {},
   "outputs": [
    {
     "data": {
      "text/plain": [
       "['Hi,',\n",
       " 'I',\n",
       " 'am',\n",
       " 'Varshini',\n",
       " 'I',\n",
       " 'am',\n",
       " 'currently',\n",
       " 'learning',\n",
       " 'spark',\n",
       " 'Spark',\n",
       " 'is',\n",
       " 'very',\n",
       " 'interesting',\n",
       " 'big',\n",
       " 'data',\n",
       " 'technology',\n",
       " 'I',\n",
       " 'am',\n",
       " 'delighted',\n",
       " 'to',\n",
       " 'use',\n",
       " 'it',\n",
       " '',\n",
       " 'Thank',\n",
       " 'you',\n",
       " 'for',\n",
       " 'your',\n",
       " 'time',\n",
       " 'and',\n",
       " 'dedication',\n",
       " 'I',\n",
       " 'am',\n",
       " 'proud',\n",
       " 'of',\n",
       " 'you',\n",
       " '',\n",
       " 'Keep',\n",
       " 'learning',\n",
       " 'Keep',\n",
       " 'upgrading',\n",
       " 'Keep',\n",
       " 'inspiring']"
      ]
     },
     "execution_count": 51,
     "metadata": {},
     "output_type": "execute_result"
    }
   ],
   "source": [
    "text = spark.sparkContext.textFile('C:/Users/varsh/Sample_Data/word_count_result')\n",
    "text.collect()"
   ]
  },
  {
   "cell_type": "code",
   "execution_count": null,
   "metadata": {},
   "outputs": [],
   "source": [
    "# sometimes spark might read in unicode format u' in such cases we have to change the format to encode('utf-8')\n",
    "# To convert it into a string"
   ]
  },
  {
   "cell_type": "code",
   "execution_count": null,
   "metadata": {},
   "outputs": [],
   "source": [
    "# Disk - Slow (in TB)\n",
    "# Ram - Fast (in GB)\n",
    "# Cache - Fastest (in KB)"
   ]
  },
  {
   "cell_type": "code",
   "execution_count": null,
   "metadata": {},
   "outputs": [],
   "source": [
    "# yarn\n",
    "# there are 2 scheduler modes\n",
    "# fair - allows multiple applications to run at the same time\n",
    "# fifo - one application at a time"
   ]
  }
 ],
 "metadata": {
  "kernelspec": {
   "display_name": "Python 3",
   "language": "python",
   "name": "python3"
  },
  "language_info": {
   "codemirror_mode": {
    "name": "ipython",
    "version": 3
   },
   "file_extension": ".py",
   "mimetype": "text/x-python",
   "name": "python",
   "nbconvert_exporter": "python",
   "pygments_lexer": "ipython3",
   "version": "3.10.5"
  },
  "orig_nbformat": 4
 },
 "nbformat": 4,
 "nbformat_minor": 2
}
